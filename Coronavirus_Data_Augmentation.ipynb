{
  "nbformat": 4,
  "nbformat_minor": 0,
  "metadata": {
    "colab": {
      "provenance": []
    },
    "kernelspec": {
      "name": "python3",
      "display_name": "Python 3"
    },
    "language_info": {
      "name": "python"
    }
  },
  "cells": [
    {
      "cell_type": "code",
      "source": [],
      "metadata": {
        "id": "d3fMIKV-PQi7"
      },
      "execution_count": null,
      "outputs": []
    },
    {
      "cell_type": "markdown",
      "source": [
        "## Data Augmentation \n",
        "I tried to add more content in this analysis in order to compare the results of this year (XX/12/22) and data provided on Kaggle by `AMAN CHAUHAN`.This dataset has information on the number of affected cases, deaths and recovery from 2019 novel coronavirus. Please note that this data was scrapped from [worldometers.info/coronavirus](https://www.worldometers.info/coronavirus/). This data was solely for education purposes only. But for my own experience i tried to gather more data to make more analysis. An other thing is that data is updated each day. So with data of 2022 now i would compare the situation with past.\n",
        "\n",
        "![Covid](https://storage.googleapis.com/kaggle-datasets-images/2513794/4266054/c2b54dc342fea08b4740760e1630cdbe/dataset-cover.jpg?t=2022-09-30-04-13-06)\n"
      ],
      "metadata": {
        "id": "f2LtSb7AQpCo"
      }
    },
    {
      "cell_type": "code",
      "execution_count": 1,
      "metadata": {
        "id": "4u8SQP-Yervv"
      },
      "outputs": [],
      "source": [
        "import numpy as np\n",
        "import pandas as pd\n",
        "import matplotlib.pyplot as plt\n",
        "%matplotlib inline\n",
        "import seaborn as sb\n",
        "import requests\n",
        "import re\n",
        "from bs4 import BeautifulSoup as bf"
      ]
    },
    {
      "cell_type": "code",
      "source": [
        "url = 'https://www.worldometers.info/coronavirus/'\n",
        "response = requests.get(url)\n",
        "response"
      ],
      "metadata": {
        "colab": {
          "base_uri": "https://localhost:8080/"
        },
        "id": "zsbwmEpQev6K",
        "outputId": "f73fecbc-1863-4a79-fd8f-072b19d041f7"
      },
      "execution_count": 2,
      "outputs": [
        {
          "output_type": "execute_result",
          "data": {
            "text/plain": [
              "<Response [200]>"
            ]
          },
          "metadata": {},
          "execution_count": 2
        }
      ]
    },
    {
      "cell_type": "code",
      "source": [
        "soup = bf(response.content, 'lxml')\n",
        "with open('Coronavirus_22.html', mode = 'wb')as file:\n",
        "    file.write(response.content)\n",
        "bloc_countries = soup.find('table',class_=\"table table-bordered table-hover main_table_countries\").contents[3]"
      ],
      "metadata": {
        "id": "a-RwaHumN3Sn"
      },
      "execution_count": 3,
      "outputs": []
    },
    {
      "cell_type": "code",
      "source": [
        "\n",
        "#Id in tab \n",
        "id_case = bloc_countries.findAll('td', style=\"font-size:12px;color: grey;text-align:center;vertical-align:middle;\")\n",
        "id_list = [i.contents[0] for i in id_case]\n",
        "\n",
        "#Country Cases\n",
        "country_case = bloc_countries.findAll('td', style=\"font-weight: bold; font-size:15px; text-align:left;\")\n",
        "country_list = [i.contents[0].contents[0] for i in country_case]\n",
        "\n",
        "#Total_Cases\n",
        "total_cases_case = bloc_countries.findAll('td', style=\"font-weight: bold; text-align:right\")\n",
        "total_case_index = [i for i in range(len(total_cases_case)) if i%11 == 0]\n",
        "list_searched = [total_cases_case[i] for i in total_case_index]\n",
        "total_cases_list = [i.contents[0] for i in list_searched[:231]]\n"
      ],
      "metadata": {
        "id": "QBnoo8kJOH1s"
      },
      "execution_count": 4,
      "outputs": []
    },
    {
      "cell_type": "code",
      "source": [
        "'''Fuction to convert the website into string \n",
        "and filter out contents since it's not possible effectively on some columns'''\n",
        "#I'm obliged to add manually new cases in dataset , no way to extract directly content\n",
        "def worldometers_to_string(bloc_countries):\n",
        "  df_countries = []\n",
        "  bloc_countries = str(bloc_countries)\n",
        "  parts = re.findall(r'''(\\n<td style=\"font-size:12px;color: grey;text-align:center;vertical-align:middle;\">[\\d]*</td>\\n[\\s\\S]*?\\n<!-- 1 Case/Death/Test every X -->\\n)''',bloc_countries)\n",
        "  for i in range(len(parts)):\n",
        "    #Id in tab\n",
        "    Id_str = re.findall(r'''(grey;text-align:center;vertical-align:middle;\">[\\d,]+</td>)''',parts[i])\n",
        "    Id_from_str = re.findall('[\\d]+',Id_str[0])[0]\n",
        "    #Id_from_str\n",
        "\n",
        "    #Country in tab\n",
        "    country_str = re.findall(r'''(<a class=\"mt_a\" href=\"country/[a-zA-Z\"/-]+>[a-zA-Z .]+</a>)''',parts[i])\n",
        "    try:\n",
        "      country_from_str = re.findall('[a-zA-Z .]+(?#</a>$)',country_str[0])[-2]\n",
        "    except:\n",
        "      country_from_str =None\n",
        "    #country_from_str\n",
        "\n",
        "    #Total_cases in tab\n",
        "    total_cases_str = re.findall(r'''(<td style=\"font-weight: bold; text-align:right\">[0-9,]+</td>)''',parts[i])\n",
        "    try:\n",
        "      total_cases_from_str = re.findall('[0-9,]+(?#</d>$)',total_cases_str[0])[0]\n",
        "    except:\n",
        "      total_cases_from_str = 0\n",
        "    #total_cases_from_str\n",
        "    \n",
        "    #New_cases in tab\n",
        "    new_cases_str = re.findall(r'''(text-align:right;background-color:#FFEEAA;\">[0-9,+]+</td>)''',parts[i])\n",
        "    try:\n",
        "      new_cases_from_str = re.findall('[0-9,]+(?#</d>$)',new_cases_str[0])[0]\n",
        "    except:\n",
        "      new_cases_from_str = 0\n",
        "    #new_cases_from_str\n",
        "\n",
        "    #Total_Deaths in tab\n",
        "    total_death_str = re.findall(r'''(<td style=\"font-weight: bold; text-align:right;\">[0-9, ]+</td>)''',parts[i])\n",
        "    try:\n",
        "      total_death_from_str = re.findall('[0-9,]+(?#</d>$)',total_death_str[0])[0]\n",
        "    except:\n",
        "      total_death_from_str =0 \n",
        "    #total_death_from_str\n",
        "\n",
        "    #New_deaths in tab\n",
        "    new_deaths_str = re.findall(r'''(background-color:red; color:white\">[0-9,+]+</td>)''',parts[i])\n",
        "    try:\n",
        "      new_deaths_from_str = re.findall('[0-9,]+(?#</d>$)',new_deaths_str[0])[-1]\n",
        "    except:\n",
        "      new_deaths_from_str = 0\n",
        "    #new_deaths_from_str\n",
        "\n",
        "    #Total_Recovered in tab\n",
        "    total_recovered_str = re.findall(r'''(<span style=\"color:grey; font-style: italic;\">[0-9, ]+</span>)''',parts[i])\n",
        "    #Affect the extraction of serious_critical cases\n",
        "    if len(total_recovered_str) == 0:\n",
        "      try:\n",
        "        total_recovered_str = re.findall(r'''(<td style=\"font-weight: bold; text-align:right\">[0-9, ]+</td>)''',parts[i])\n",
        "        total_recovered_from_str = re.findall('[0-9,]+(?#</d>$)',total_recovered_str[1])[0]\n",
        "      except:\n",
        "        total_recovered_from_str=0\n",
        "    else:\n",
        "      total_recovered_from_str = re.findall('[0-9,]+(?#</d>$)',total_recovered_str[0])[0]\n",
        "    #total_recovered_from_str\n",
        "\n",
        "    #New_recovered in tab \n",
        "    new_recovered_str = re.findall(r'''(background-color:#c8e6c9; color:#000\">[0-9,+]+</td>)''',parts[i])\n",
        "    try:\n",
        "      new_recovered_from_str = re.findall('[0-9,]+(?#</d>$)',new_recovered_str[0])[-1]\n",
        "    except:\n",
        "      new_recovered_from_str =0\n",
        "    #new_recovered_from_str\n",
        "\n",
        "    #Active_cases in tab \n",
        "    active_cases_str = re.findall(r'''(<td style=\"text-align:right;font-weight:bold;\">[0-9,]+</td>)''',parts[i])\n",
        "    try:\n",
        "      active_cases_from_str = re.findall('[0-9,]+(?#</d>$)',active_cases_str[0])[-1]\n",
        "    except:\n",
        "      active_cases_from_str = 0\n",
        "    #active_cases_from_str\n",
        "\n",
        "    #Serious_critical, total_cases_per_million, deaths_per_million, tests_per_million in tab (based on this extraction method, depend of total recovered)\n",
        "    total_recovered_str = re.findall(r'''(<span style=\"color:grey; font-style: italic;\">[0-9, ]+</span>)''',parts[i])\n",
        "    pattern_search = re.findall(r'''(<td style=\"font-weight: bold; text-align:right\">[0-9,]+</td>)''',parts[i])\n",
        "    serious_critical_str = re.findall(r'''(<td style=\"font-weight: bold; text-align:right\">[0-9,]+</td>)''',parts[i])\n",
        "    total_cases_per_million_str = pattern_search\n",
        "    deaths_per_million_str = pattern_search\n",
        "    total_tests_str = pattern_search\n",
        "    tests_per_million_str = pattern_search\n",
        "    if len(total_recovered_str) == 0:\n",
        "      total_recovered_str = re.findall(r'''(<td style=\"font-weight: bold; text-align:right\">[0-9, ]+</td>)''',parts[i])\n",
        "      try:\n",
        "        serious_critical_from_str = re.findall('[0-9,]+(?#</d>$)',serious_critical_str[2])[0]\n",
        "      except:\n",
        "        serious_critical_from_str = 0\n",
        "      try:\n",
        "        total_cases_per_million_from_str = re.findall('[0-9,]+(?#</d>$)',total_cases_per_million_str[3])[0]\n",
        "      except:\n",
        "        total_cases_per_million_from_str =0\n",
        "      try:\n",
        "        deaths_per_million_from_str = re.findall('[0-9,]+(?#</d>$)',total_cases_per_million_str[4])[0]\n",
        "      except:\n",
        "        deaths_per_million_from_str = 0\n",
        "      try:\n",
        "        total_tests_from_str = re.findall('[0-9,]+(?#</d>$)',total_cases_per_million_str[5])[0]\n",
        "      except:\n",
        "        total_tests_from_str = 0\n",
        "      try:\n",
        "        tests_per_million_from_str = re.findall('[0-9,]+(?#</d>$)',total_cases_per_million_str[6])[0]\n",
        "      except:\n",
        "        tests_per_million_from_str = 0\n",
        "    else:\n",
        "      try:\n",
        "        serious_critical_from_str = re.findall('[0-9,]+(?#</d>$)',serious_critical_str[1])[0]\n",
        "      except:\n",
        "        serious_critical_from_str = 0\n",
        "      try:\n",
        "        total_cases_per_million_from_str = re.findall('[0-9,]+(?#</d>$)',total_cases_per_million_str[2])[0]\n",
        "      except:\n",
        "        total_cases_per_million_from_str =0\n",
        "      try:\n",
        "        deaths_per_million_from_str = re.findall('[0-9,]+(?#</d>$)',total_cases_per_million_str[3])[0]\n",
        "      except:\n",
        "        deaths_per_million_from_str = 0\n",
        "      try:\n",
        "        total_tests_from_str = re.findall('[0-9,]+(?#</d>$)',total_cases_per_million_str[4])[0]\n",
        "      except:\n",
        "        total_tests_from_str = 0\n",
        "      try:\n",
        "        tests_per_million_from_str = re.findall('[0-9,]+(?#</d>$)',total_cases_per_million_str[5])[0]\n",
        "      except:\n",
        "        tests_per_million_from_str = 0\n",
        "    \n",
        "    #Population in tab\n",
        "    population_str = re.findall(r'''(text-align:right\"><a href=\"/world-population/[a-zA-Z\"/-]+>[0-9,]+</a>)''',parts[i])\n",
        "    try :\n",
        "      population_from_str = re.findall('[0-9,]+(?#</a>$)',population_str[0])[0]\n",
        "    except:\n",
        "      population_from_str = None\n",
        "    #population_from_str\n",
        "\n",
        "    #Continent in Worldometer tab sheet\n",
        "    continent_str = re.findall(r'''(<td data-continent[a-zA-Z\": =]+>[a-zA-Z. ]+</td>)''',parts[i])\n",
        "    try:\n",
        "      continent_from_str = re.findall('[a-zA-Z. ]+(?#</td>$)',continent_str[0])[-2]\n",
        "    except:\n",
        "      continent_from_str = None\n",
        "    #continent_from_str\n",
        "    \n",
        "\n",
        "    #DataFrame building \n",
        "    df_countries.append({'Id':Id_from_str,\n",
        "                         'country':country_from_str,\n",
        "                         'total_cases':total_cases_from_str,\n",
        "                         'new_cases':new_cases_from_str,\n",
        "                         'total_death':total_death_from_str,\n",
        "                         'new_deaths':new_deaths_from_str,\n",
        "                         'total_recovered':total_recovered_from_str,\n",
        "                         'new_recovered':new_recovered_from_str,\n",
        "                         'active_cases':active_cases_from_str,\n",
        "                         'serious_critical':serious_critical_from_str,\n",
        "                         'total_cases_per_million':total_cases_per_million_from_str,\n",
        "                         'deaths_per_million':deaths_per_million_from_str,\n",
        "                         'total_tests':total_tests_from_str,\n",
        "                         'tests_per_million':tests_per_million_from_str,\n",
        "                         'population':population_from_str,\n",
        "                         'continent':continent_from_str})\n",
        "\n",
        "  df_coronavirus = pd.DataFrame(df_countries, columns = ['Id','country','total_cases','new_cases','total_death','new_deaths','total_recovered','new_recovered','active_cases','serious_critical','total_cases_per_million','deaths_per_million','total_tests','tests_per_million','population','continent'])\n",
        "  return df_coronavirus"
      ],
      "metadata": {
        "id": "jBqxvvcWSkjH"
      },
      "execution_count": 57,
      "outputs": []
    },
    {
      "cell_type": "code",
      "source": [
        "df = worldometers_to_string(bloc_countries)"
      ],
      "metadata": {
        "id": "XDVC8v_DYX0T"
      },
      "execution_count": 58,
      "outputs": []
    },
    {
      "cell_type": "code",
      "source": [
        "df.to_csv('Coronavirus_22_12_07.csv',index =False)"
      ],
      "metadata": {
        "id": "m5OW5E-ZbWPz"
      },
      "execution_count": 70,
      "outputs": []
    }
  ]
}