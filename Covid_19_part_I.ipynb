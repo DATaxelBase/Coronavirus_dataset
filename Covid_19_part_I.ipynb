{
 "cells": [
  {
   "cell_type": "markdown",
   "id": "98ca60e2",
   "metadata": {},
   "source": [
    "# Part I COVID-19 Coronavirus Pandemic Dataset (Data Exploration)\n",
    "\n",
    "## by (Joris Axel DA MATHA)\n",
    "\n",
    "## About Dataset\n",
    ">Hello dear reader, \n",
    "The 2019–20 coronavirus pandemic is an ongoing global pandemic of coronavirus disease 2019 (COVID-19) caused by the severe acute respiratory syndrome coronavirus 2 (SARS-CoV-2). The virus first emerged in Wuhan, Hubei, China, in December 2019. On 11 March 2020, the World Health Organization declared the outbreak a pandemic. As of 11 March 2020, over 126,000 cases have been confirmed in more than 110 countries and territories, with major outbreaks in mainland China, Italy, South Korea, and Iran. More than 4,600 have died from the disease and 67,000 have recovered. \n"
   ]
  },
  {
   "cell_type": "code",
   "execution_count": 1,
   "id": "690ada9c",
   "metadata": {},
   "outputs": [],
   "source": [
    "import numpy as np\n",
    "import pandas as pd\n",
    "import matplotlib.pyplot as plt\n",
    "%matplotlib inline\n",
    "import seaborn as sb\n",
    "import requests\n",
    "from bs4 import BeautifulSoup as bf"
   ]
  },
  {
   "cell_type": "markdown",
   "id": "fa018e80",
   "metadata": {},
   "source": [
    "## Data Augmentation \n",
    "I tried to add more content in this analysis in order to compare the results of this year (XX/12/22) and data provided on Kaggle by `AMAN CHAUHAN`.This dataset has information on the number of affected cases, deaths and recovery from 2019 novel coronavirus. Please note that this data was scrapped from [Source](https://www.worldometers.info/coronavirus/). This data was solely for education purposes only. But for my own experience i tried to gather more data to make more analysis. An other thing is that data is updated each day. So with data of 2022 now i would compare the situation with past.\n",
    "\n",
    "![Covid](https://france3-regions.francetvinfo.fr/image/wsuJ2rtfoQYyc3wIHypmO9JyNBU/600x400/regions/2020/06/09/5edfa280c0ba6_mona-4723088.jpg)\n"
   ]
  },
  {
   "cell_type": "markdown",
   "id": "a2212a0a",
   "metadata": {},
   "source": [
    ">If you want more visibility about my data augmentation process please check the `Coronavirus_Data_Augmentation.ipynb`.\n",
    "Now let's correct the issues in the data. I will use as reference the last data i gathered from Worldometers."
   ]
  },
  {
   "cell_type": "code",
   "execution_count": 2,
   "id": "3d158100",
   "metadata": {
    "scrolled": true
   },
   "outputs": [
    {
     "data": {
      "text/html": [
       "<div>\n",
       "<style scoped>\n",
       "    .dataframe tbody tr th:only-of-type {\n",
       "        vertical-align: middle;\n",
       "    }\n",
       "\n",
       "    .dataframe tbody tr th {\n",
       "        vertical-align: top;\n",
       "    }\n",
       "\n",
       "    .dataframe thead th {\n",
       "        text-align: right;\n",
       "    }\n",
       "</style>\n",
       "<table border=\"1\" class=\"dataframe\">\n",
       "  <thead>\n",
       "    <tr style=\"text-align: right;\">\n",
       "      <th></th>\n",
       "      <th>Id</th>\n",
       "      <th>country</th>\n",
       "      <th>total_cases</th>\n",
       "      <th>new_cases</th>\n",
       "      <th>total_death</th>\n",
       "      <th>new_deaths</th>\n",
       "      <th>total_recovered</th>\n",
       "      <th>new_recovered</th>\n",
       "      <th>active_cases</th>\n",
       "      <th>serious_critical</th>\n",
       "      <th>total_cases_per_million</th>\n",
       "      <th>deaths_per_million</th>\n",
       "      <th>total_tests</th>\n",
       "      <th>tests_per_million</th>\n",
       "      <th>population</th>\n",
       "      <th>continent</th>\n",
       "    </tr>\n",
       "  </thead>\n",
       "  <tbody>\n",
       "    <tr>\n",
       "      <th>0</th>\n",
       "      <td>1</td>\n",
       "      <td>USA</td>\n",
       "      <td>101,213,638</td>\n",
       "      <td>0</td>\n",
       "      <td>1,109,394</td>\n",
       "      <td>0</td>\n",
       "      <td>98,461,586</td>\n",
       "      <td>0</td>\n",
       "      <td>1,642,658</td>\n",
       "      <td>3,746</td>\n",
       "      <td>302,306</td>\n",
       "      <td>3,314</td>\n",
       "      <td>1,144,042,147</td>\n",
       "      <td>3,417,037</td>\n",
       "      <td>334,805,269</td>\n",
       "      <td>North America</td>\n",
       "    </tr>\n",
       "    <tr>\n",
       "      <th>1</th>\n",
       "      <td>2</td>\n",
       "      <td>India</td>\n",
       "      <td>44,675,509</td>\n",
       "      <td>0</td>\n",
       "      <td>530,653</td>\n",
       "      <td>0</td>\n",
       "      <td>44,139,558</td>\n",
       "      <td>0</td>\n",
       "      <td>5,298</td>\n",
       "      <td>698</td>\n",
       "      <td>31,761</td>\n",
       "      <td>377</td>\n",
       "      <td>907,809,042</td>\n",
       "      <td>645,378</td>\n",
       "      <td>1,406,631,776</td>\n",
       "      <td>Asia</td>\n",
       "    </tr>\n",
       "    <tr>\n",
       "      <th>2</th>\n",
       "      <td>3</td>\n",
       "      <td>France</td>\n",
       "      <td>38,331,430</td>\n",
       "      <td>0</td>\n",
       "      <td>159,517</td>\n",
       "      <td>0</td>\n",
       "      <td>37,128,030</td>\n",
       "      <td>0</td>\n",
       "      <td>1,043,883</td>\n",
       "      <td>869</td>\n",
       "      <td>584,459</td>\n",
       "      <td>2,432</td>\n",
       "      <td>271,490,188</td>\n",
       "      <td>4,139,547</td>\n",
       "      <td>65,584,518</td>\n",
       "      <td>Europe</td>\n",
       "    </tr>\n",
       "    <tr>\n",
       "      <th>3</th>\n",
       "      <td>4</td>\n",
       "      <td>Germany</td>\n",
       "      <td>36,726,061</td>\n",
       "      <td>0</td>\n",
       "      <td>158,851</td>\n",
       "      <td>0</td>\n",
       "      <td>36,042,800</td>\n",
       "      <td>27,000</td>\n",
       "      <td>524,410</td>\n",
       "      <td>1,406</td>\n",
       "      <td>437,822</td>\n",
       "      <td>1,894</td>\n",
       "      <td>122,332,384</td>\n",
       "      <td>1,458,359</td>\n",
       "      <td>83,883,596</td>\n",
       "      <td>Europe</td>\n",
       "    </tr>\n",
       "    <tr>\n",
       "      <th>4</th>\n",
       "      <td>5</td>\n",
       "      <td>Brazil</td>\n",
       "      <td>35,563,044</td>\n",
       "      <td>0</td>\n",
       "      <td>690,739</td>\n",
       "      <td>0</td>\n",
       "      <td>34,354,889</td>\n",
       "      <td>0</td>\n",
       "      <td>517,416</td>\n",
       "      <td>8,318</td>\n",
       "      <td>165,138</td>\n",
       "      <td>3,207</td>\n",
       "      <td>63,776,166</td>\n",
       "      <td>296,146</td>\n",
       "      <td>215,353,593</td>\n",
       "      <td>South America</td>\n",
       "    </tr>\n",
       "    <tr>\n",
       "      <th>5</th>\n",
       "      <td>6</td>\n",
       "      <td>S. Korea</td>\n",
       "      <td>27,611,555</td>\n",
       "      <td>62,734</td>\n",
       "      <td>30,975</td>\n",
       "      <td>67</td>\n",
       "      <td>26,550,948</td>\n",
       "      <td>23,030</td>\n",
       "      <td>1,029,632</td>\n",
       "      <td>442</td>\n",
       "      <td>537,923</td>\n",
       "      <td>603</td>\n",
       "      <td>15,804,065</td>\n",
       "      <td>307,892</td>\n",
       "      <td>51,329,899</td>\n",
       "      <td>Asia</td>\n",
       "    </tr>\n",
       "  </tbody>\n",
       "</table>\n",
       "</div>"
      ],
      "text/plain": [
       "   Id   country  total_cases new_cases total_death  new_deaths  \\\n",
       "0   1       USA  101,213,638         0   1,109,394           0   \n",
       "1   2     India   44,675,509         0     530,653           0   \n",
       "2   3    France   38,331,430         0     159,517           0   \n",
       "3   4   Germany   36,726,061         0     158,851           0   \n",
       "4   5    Brazil   35,563,044         0     690,739           0   \n",
       "5   6  S. Korea   27,611,555    62,734      30,975          67   \n",
       "\n",
       "  total_recovered new_recovered active_cases serious_critical  \\\n",
       "0      98,461,586             0    1,642,658            3,746   \n",
       "1      44,139,558             0        5,298              698   \n",
       "2      37,128,030             0    1,043,883              869   \n",
       "3      36,042,800        27,000      524,410            1,406   \n",
       "4      34,354,889             0      517,416            8,318   \n",
       "5      26,550,948        23,030    1,029,632              442   \n",
       "\n",
       "  total_cases_per_million deaths_per_million    total_tests tests_per_million  \\\n",
       "0                 302,306              3,314  1,144,042,147         3,417,037   \n",
       "1                  31,761                377    907,809,042           645,378   \n",
       "2                 584,459              2,432    271,490,188         4,139,547   \n",
       "3                 437,822              1,894    122,332,384         1,458,359   \n",
       "4                 165,138              3,207     63,776,166           296,146   \n",
       "5                 537,923                603     15,804,065           307,892   \n",
       "\n",
       "      population      continent  \n",
       "0    334,805,269  North America  \n",
       "1  1,406,631,776           Asia  \n",
       "2     65,584,518         Europe  \n",
       "3     83,883,596         Europe  \n",
       "4    215,353,593  South America  \n",
       "5     51,329,899           Asia  "
      ]
     },
     "execution_count": 2,
     "metadata": {},
     "output_type": "execute_result"
    }
   ],
   "source": [
    "df = pd.read_csv(\"./Data_Gathering/Coronavirus_22_12_09.csv\")\n",
    "df.head(6)"
   ]
  },
  {
   "cell_type": "markdown",
   "id": "30309a1d",
   "metadata": {},
   "source": [
    "#### Let's insure the data were well extracted \n"
   ]
  },
  {
   "cell_type": "code",
   "execution_count": 3,
   "id": "a529a710",
   "metadata": {
    "scrolled": true
   },
   "outputs": [
    {
     "data": {
      "text/plain": [
       "[{'Id': 0},\n",
       " {'country': 6},\n",
       " {'total_cases': 0},\n",
       " {'new_cases': 0},\n",
       " {'total_death': 0},\n",
       " {'new_deaths': 0},\n",
       " {'total_recovered': 0},\n",
       " {'new_recovered': 0},\n",
       " {'active_cases': 0},\n",
       " {'serious_critical': 0},\n",
       " {'total_cases_per_million': 0},\n",
       " {'deaths_per_million': 0},\n",
       " {'total_tests': 0},\n",
       " {'tests_per_million': 0},\n",
       " {'population': 3},\n",
       " {'continent': 2}]"
      ]
     },
     "execution_count": 3,
     "metadata": {},
     "output_type": "execute_result"
    }
   ],
   "source": [
    "df_null_values =[]\n",
    "cols = list(df.columns)\n",
    "for i in cols:\n",
    "    df_null_values.append({i:df[i].isnull().sum()})\n",
    "df_null_values"
   ]
  },
  {
   "cell_type": "code",
   "execution_count": 4,
   "id": "046da9cd",
   "metadata": {},
   "outputs": [
    {
     "data": {
      "text/html": [
       "<div>\n",
       "<style scoped>\n",
       "    .dataframe tbody tr th:only-of-type {\n",
       "        vertical-align: middle;\n",
       "    }\n",
       "\n",
       "    .dataframe tbody tr th {\n",
       "        vertical-align: top;\n",
       "    }\n",
       "\n",
       "    .dataframe thead th {\n",
       "        text-align: right;\n",
       "    }\n",
       "</style>\n",
       "<table border=\"1\" class=\"dataframe\">\n",
       "  <thead>\n",
       "    <tr style=\"text-align: right;\">\n",
       "      <th></th>\n",
       "      <th>Id</th>\n",
       "      <th>new_deaths</th>\n",
       "    </tr>\n",
       "  </thead>\n",
       "  <tbody>\n",
       "    <tr>\n",
       "      <th>count</th>\n",
       "      <td>230.000000</td>\n",
       "      <td>230.000000</td>\n",
       "    </tr>\n",
       "    <tr>\n",
       "      <th>mean</th>\n",
       "      <td>115.500000</td>\n",
       "      <td>2.360870</td>\n",
       "    </tr>\n",
       "    <tr>\n",
       "      <th>std</th>\n",
       "      <td>66.539462</td>\n",
       "      <td>16.682372</td>\n",
       "    </tr>\n",
       "    <tr>\n",
       "      <th>min</th>\n",
       "      <td>1.000000</td>\n",
       "      <td>0.000000</td>\n",
       "    </tr>\n",
       "    <tr>\n",
       "      <th>25%</th>\n",
       "      <td>58.250000</td>\n",
       "      <td>0.000000</td>\n",
       "    </tr>\n",
       "    <tr>\n",
       "      <th>50%</th>\n",
       "      <td>115.500000</td>\n",
       "      <td>0.000000</td>\n",
       "    </tr>\n",
       "    <tr>\n",
       "      <th>75%</th>\n",
       "      <td>172.750000</td>\n",
       "      <td>0.000000</td>\n",
       "    </tr>\n",
       "    <tr>\n",
       "      <th>max</th>\n",
       "      <td>230.000000</td>\n",
       "      <td>228.000000</td>\n",
       "    </tr>\n",
       "  </tbody>\n",
       "</table>\n",
       "</div>"
      ],
      "text/plain": [
       "               Id  new_deaths\n",
       "count  230.000000  230.000000\n",
       "mean   115.500000    2.360870\n",
       "std     66.539462   16.682372\n",
       "min      1.000000    0.000000\n",
       "25%     58.250000    0.000000\n",
       "50%    115.500000    0.000000\n",
       "75%    172.750000    0.000000\n",
       "max    230.000000  228.000000"
      ]
     },
     "execution_count": 4,
     "metadata": {},
     "output_type": "execute_result"
    }
   ],
   "source": [
    "df.describe()"
   ]
  },
  {
   "cell_type": "code",
   "execution_count": 5,
   "id": "f53eccc5",
   "metadata": {
    "scrolled": true
   },
   "outputs": [
    {
     "data": {
      "text/html": [
       "<div>\n",
       "<style scoped>\n",
       "    .dataframe tbody tr th:only-of-type {\n",
       "        vertical-align: middle;\n",
       "    }\n",
       "\n",
       "    .dataframe tbody tr th {\n",
       "        vertical-align: top;\n",
       "    }\n",
       "\n",
       "    .dataframe thead th {\n",
       "        text-align: right;\n",
       "    }\n",
       "</style>\n",
       "<table border=\"1\" class=\"dataframe\">\n",
       "  <thead>\n",
       "    <tr style=\"text-align: right;\">\n",
       "      <th></th>\n",
       "      <th>Id</th>\n",
       "      <th>country</th>\n",
       "      <th>total_cases</th>\n",
       "      <th>new_cases</th>\n",
       "      <th>total_death</th>\n",
       "      <th>new_deaths</th>\n",
       "      <th>total_recovered</th>\n",
       "      <th>new_recovered</th>\n",
       "      <th>active_cases</th>\n",
       "      <th>serious_critical</th>\n",
       "      <th>total_cases_per_million</th>\n",
       "      <th>deaths_per_million</th>\n",
       "      <th>total_tests</th>\n",
       "      <th>tests_per_million</th>\n",
       "      <th>population</th>\n",
       "      <th>continent</th>\n",
       "    </tr>\n",
       "  </thead>\n",
       "  <tbody>\n",
       "    <tr>\n",
       "      <th>92</th>\n",
       "      <td>93</td>\n",
       "      <td>NaN</td>\n",
       "      <td>477,305</td>\n",
       "      <td>0</td>\n",
       "      <td>903</td>\n",
       "      <td>0</td>\n",
       "      <td>418,572</td>\n",
       "      <td>0</td>\n",
       "      <td>57,830</td>\n",
       "      <td>10</td>\n",
       "      <td>525,631</td>\n",
       "      <td>994</td>\n",
       "      <td>1,603,660</td>\n",
       "      <td>1,766,027</td>\n",
       "      <td>908,061</td>\n",
       "      <td>Africa</td>\n",
       "    </tr>\n",
       "    <tr>\n",
       "      <th>153</th>\n",
       "      <td>154</td>\n",
       "      <td>NaN</td>\n",
       "      <td>45,986</td>\n",
       "      <td>0</td>\n",
       "      <td>295</td>\n",
       "      <td>0</td>\n",
       "      <td>44,720</td>\n",
       "      <td>0</td>\n",
       "      <td>971</td>\n",
       "      <td>3</td>\n",
       "      <td>277,812</td>\n",
       "      <td>1,782</td>\n",
       "      <td>496,693</td>\n",
       "      <td>3,000,640</td>\n",
       "      <td>165,529</td>\n",
       "      <td>North America</td>\n",
       "    </tr>\n",
       "    <tr>\n",
       "      <th>172</th>\n",
       "      <td>173</td>\n",
       "      <td>NaN</td>\n",
       "      <td>23,360</td>\n",
       "      <td>0</td>\n",
       "      <td>138</td>\n",
       "      <td>0</td>\n",
       "      <td>23,102</td>\n",
       "      <td>0</td>\n",
       "      <td>120</td>\n",
       "      <td>17,058</td>\n",
       "      <td>101</td>\n",
       "      <td>278,529</td>\n",
       "      <td>203,391</td>\n",
       "      <td>0</td>\n",
       "      <td>1,369,429</td>\n",
       "      <td>Asia</td>\n",
       "    </tr>\n",
       "    <tr>\n",
       "      <th>202</th>\n",
       "      <td>203</td>\n",
       "      <td>NaN</td>\n",
       "      <td>8,848</td>\n",
       "      <td>0</td>\n",
       "      <td>176</td>\n",
       "      <td>0</td>\n",
       "      <td>8,642</td>\n",
       "      <td>0</td>\n",
       "      <td>30</td>\n",
       "      <td>6</td>\n",
       "      <td>4,288</td>\n",
       "      <td>85</td>\n",
       "      <td>145,231</td>\n",
       "      <td>70,385</td>\n",
       "      <td>2,063,367</td>\n",
       "      <td>Africa</td>\n",
       "    </tr>\n",
       "    <tr>\n",
       "      <th>224</th>\n",
       "      <td>225</td>\n",
       "      <td>NaN</td>\n",
       "      <td>712</td>\n",
       "      <td>0</td>\n",
       "      <td>13</td>\n",
       "      <td>0</td>\n",
       "      <td>699</td>\n",
       "      <td>0</td>\n",
       "      <td>0</td>\n",
       "      <td>0</td>\n",
       "      <td>0</td>\n",
       "      <td>0</td>\n",
       "      <td>0</td>\n",
       "      <td>0</td>\n",
       "      <td>NaN</td>\n",
       "      <td>NaN</td>\n",
       "    </tr>\n",
       "    <tr>\n",
       "      <th>228</th>\n",
       "      <td>229</td>\n",
       "      <td>NaN</td>\n",
       "      <td>9</td>\n",
       "      <td>0</td>\n",
       "      <td>2</td>\n",
       "      <td>0</td>\n",
       "      <td>7</td>\n",
       "      <td>0</td>\n",
       "      <td>0</td>\n",
       "      <td>0</td>\n",
       "      <td>0</td>\n",
       "      <td>0</td>\n",
       "      <td>0</td>\n",
       "      <td>0</td>\n",
       "      <td>NaN</td>\n",
       "      <td>NaN</td>\n",
       "    </tr>\n",
       "  </tbody>\n",
       "</table>\n",
       "</div>"
      ],
      "text/plain": [
       "      Id country total_cases new_cases total_death  new_deaths  \\\n",
       "92    93     NaN     477,305         0         903           0   \n",
       "153  154     NaN      45,986         0         295           0   \n",
       "172  173     NaN      23,360         0         138           0   \n",
       "202  203     NaN       8,848         0         176           0   \n",
       "224  225     NaN         712         0          13           0   \n",
       "228  229     NaN           9         0           2           0   \n",
       "\n",
       "    total_recovered new_recovered active_cases serious_critical  \\\n",
       "92          418,572             0       57,830               10   \n",
       "153          44,720             0          971                3   \n",
       "172          23,102             0          120           17,058   \n",
       "202           8,642             0           30                6   \n",
       "224             699             0            0                0   \n",
       "228               7             0            0                0   \n",
       "\n",
       "    total_cases_per_million deaths_per_million total_tests tests_per_million  \\\n",
       "92                  525,631                994   1,603,660         1,766,027   \n",
       "153                 277,812              1,782     496,693         3,000,640   \n",
       "172                     101            278,529     203,391                 0   \n",
       "202                   4,288                 85     145,231            70,385   \n",
       "224                       0                  0           0                 0   \n",
       "228                       0                  0           0                 0   \n",
       "\n",
       "    population      continent  \n",
       "92     908,061         Africa  \n",
       "153    165,529  North America  \n",
       "172  1,369,429           Asia  \n",
       "202  2,063,367         Africa  \n",
       "224        NaN            NaN  \n",
       "228        NaN            NaN  "
      ]
     },
     "execution_count": 5,
     "metadata": {},
     "output_type": "execute_result"
    }
   ],
   "source": [
    "df_empty_country = df[df['country'].isnull()]\n",
    "df_empty_country"
   ]
  },
  {
   "cell_type": "code",
   "execution_count": 6,
   "id": "5272e1e7",
   "metadata": {},
   "outputs": [
    {
     "data": {
      "text/html": [
       "<div>\n",
       "<style scoped>\n",
       "    .dataframe tbody tr th:only-of-type {\n",
       "        vertical-align: middle;\n",
       "    }\n",
       "\n",
       "    .dataframe tbody tr th {\n",
       "        vertical-align: top;\n",
       "    }\n",
       "\n",
       "    .dataframe thead th {\n",
       "        text-align: right;\n",
       "    }\n",
       "</style>\n",
       "<table border=\"1\" class=\"dataframe\">\n",
       "  <thead>\n",
       "    <tr style=\"text-align: right;\">\n",
       "      <th></th>\n",
       "      <th>Id</th>\n",
       "      <th>country</th>\n",
       "      <th>total_cases</th>\n",
       "      <th>new_cases</th>\n",
       "      <th>total_death</th>\n",
       "      <th>new_deaths</th>\n",
       "      <th>total_recovered</th>\n",
       "      <th>new_recovered</th>\n",
       "      <th>active_cases</th>\n",
       "      <th>serious_critical</th>\n",
       "      <th>total_cases_per_million</th>\n",
       "      <th>deaths_per_million</th>\n",
       "      <th>total_tests</th>\n",
       "      <th>tests_per_million</th>\n",
       "      <th>population</th>\n",
       "      <th>continent</th>\n",
       "    </tr>\n",
       "  </thead>\n",
       "  <tbody>\n",
       "    <tr>\n",
       "      <th>224</th>\n",
       "      <td>225</td>\n",
       "      <td>NaN</td>\n",
       "      <td>712</td>\n",
       "      <td>0</td>\n",
       "      <td>13</td>\n",
       "      <td>0</td>\n",
       "      <td>699</td>\n",
       "      <td>0</td>\n",
       "      <td>0</td>\n",
       "      <td>0</td>\n",
       "      <td>0</td>\n",
       "      <td>0</td>\n",
       "      <td>0</td>\n",
       "      <td>0</td>\n",
       "      <td>NaN</td>\n",
       "      <td>NaN</td>\n",
       "    </tr>\n",
       "    <tr>\n",
       "      <th>228</th>\n",
       "      <td>229</td>\n",
       "      <td>NaN</td>\n",
       "      <td>9</td>\n",
       "      <td>0</td>\n",
       "      <td>2</td>\n",
       "      <td>0</td>\n",
       "      <td>7</td>\n",
       "      <td>0</td>\n",
       "      <td>0</td>\n",
       "      <td>0</td>\n",
       "      <td>0</td>\n",
       "      <td>0</td>\n",
       "      <td>0</td>\n",
       "      <td>0</td>\n",
       "      <td>NaN</td>\n",
       "      <td>NaN</td>\n",
       "    </tr>\n",
       "    <tr>\n",
       "      <th>229</th>\n",
       "      <td>230</td>\n",
       "      <td>China</td>\n",
       "      <td>357,652</td>\n",
       "      <td>3,635</td>\n",
       "      <td>5,235</td>\n",
       "      <td>0</td>\n",
       "      <td>309,259</td>\n",
       "      <td>3,743</td>\n",
       "      <td>43,158</td>\n",
       "      <td>143</td>\n",
       "      <td>247</td>\n",
       "      <td>4</td>\n",
       "      <td>160,000,000</td>\n",
       "      <td>110,461</td>\n",
       "      <td>NaN</td>\n",
       "      <td>Asia</td>\n",
       "    </tr>\n",
       "  </tbody>\n",
       "</table>\n",
       "</div>"
      ],
      "text/plain": [
       "      Id country total_cases new_cases total_death  new_deaths  \\\n",
       "224  225     NaN         712         0          13           0   \n",
       "228  229     NaN           9         0           2           0   \n",
       "229  230   China     357,652     3,635       5,235           0   \n",
       "\n",
       "    total_recovered new_recovered active_cases serious_critical  \\\n",
       "224             699             0            0                0   \n",
       "228               7             0            0                0   \n",
       "229         309,259         3,743       43,158              143   \n",
       "\n",
       "    total_cases_per_million deaths_per_million  total_tests tests_per_million  \\\n",
       "224                       0                  0            0                 0   \n",
       "228                       0                  0            0                 0   \n",
       "229                     247                  4  160,000,000           110,461   \n",
       "\n",
       "    population continent  \n",
       "224        NaN       NaN  \n",
       "228        NaN       NaN  \n",
       "229        NaN      Asia  "
      ]
     },
     "execution_count": 6,
     "metadata": {},
     "output_type": "execute_result"
    }
   ],
   "source": [
    "df_empty_pop = df[df['population'].isnull()]\n",
    "df_empty_pop"
   ]
  },
  {
   "cell_type": "code",
   "execution_count": 7,
   "id": "3e7116ca",
   "metadata": {},
   "outputs": [
    {
     "data": {
      "text/html": [
       "<div>\n",
       "<style scoped>\n",
       "    .dataframe tbody tr th:only-of-type {\n",
       "        vertical-align: middle;\n",
       "    }\n",
       "\n",
       "    .dataframe tbody tr th {\n",
       "        vertical-align: top;\n",
       "    }\n",
       "\n",
       "    .dataframe thead th {\n",
       "        text-align: right;\n",
       "    }\n",
       "</style>\n",
       "<table border=\"1\" class=\"dataframe\">\n",
       "  <thead>\n",
       "    <tr style=\"text-align: right;\">\n",
       "      <th></th>\n",
       "      <th>Id</th>\n",
       "      <th>country</th>\n",
       "      <th>total_cases</th>\n",
       "      <th>new_cases</th>\n",
       "      <th>total_death</th>\n",
       "      <th>new_deaths</th>\n",
       "      <th>total_recovered</th>\n",
       "      <th>new_recovered</th>\n",
       "      <th>active_cases</th>\n",
       "      <th>serious_critical</th>\n",
       "      <th>total_cases_per_million</th>\n",
       "      <th>deaths_per_million</th>\n",
       "      <th>total_tests</th>\n",
       "      <th>tests_per_million</th>\n",
       "      <th>population</th>\n",
       "      <th>continent</th>\n",
       "    </tr>\n",
       "  </thead>\n",
       "  <tbody>\n",
       "    <tr>\n",
       "      <th>224</th>\n",
       "      <td>225</td>\n",
       "      <td>NaN</td>\n",
       "      <td>712</td>\n",
       "      <td>0</td>\n",
       "      <td>13</td>\n",
       "      <td>0</td>\n",
       "      <td>699</td>\n",
       "      <td>0</td>\n",
       "      <td>0</td>\n",
       "      <td>0</td>\n",
       "      <td>0</td>\n",
       "      <td>0</td>\n",
       "      <td>0</td>\n",
       "      <td>0</td>\n",
       "      <td>NaN</td>\n",
       "      <td>NaN</td>\n",
       "    </tr>\n",
       "    <tr>\n",
       "      <th>228</th>\n",
       "      <td>229</td>\n",
       "      <td>NaN</td>\n",
       "      <td>9</td>\n",
       "      <td>0</td>\n",
       "      <td>2</td>\n",
       "      <td>0</td>\n",
       "      <td>7</td>\n",
       "      <td>0</td>\n",
       "      <td>0</td>\n",
       "      <td>0</td>\n",
       "      <td>0</td>\n",
       "      <td>0</td>\n",
       "      <td>0</td>\n",
       "      <td>0</td>\n",
       "      <td>NaN</td>\n",
       "      <td>NaN</td>\n",
       "    </tr>\n",
       "  </tbody>\n",
       "</table>\n",
       "</div>"
      ],
      "text/plain": [
       "      Id country total_cases new_cases total_death  new_deaths  \\\n",
       "224  225     NaN         712         0          13           0   \n",
       "228  229     NaN           9         0           2           0   \n",
       "\n",
       "    total_recovered new_recovered active_cases serious_critical  \\\n",
       "224             699             0            0                0   \n",
       "228               7             0            0                0   \n",
       "\n",
       "    total_cases_per_million deaths_per_million total_tests tests_per_million  \\\n",
       "224                       0                  0           0                 0   \n",
       "228                       0                  0           0                 0   \n",
       "\n",
       "    population continent  \n",
       "224        NaN       NaN  \n",
       "228        NaN       NaN  "
      ]
     },
     "execution_count": 7,
     "metadata": {},
     "output_type": "execute_result"
    }
   ],
   "source": [
    "df_empty_cont = df[df['continent'].isnull()]\n",
    "df_empty_cont"
   ]
  },
  {
   "cell_type": "code",
   "execution_count": 8,
   "id": "9772aed4",
   "metadata": {},
   "outputs": [
    {
     "data": {
      "text/plain": [
       "[{'Id': numpy.int64},\n",
       " {'country': str},\n",
       " {'total_cases': str},\n",
       " {'new_cases': str},\n",
       " {'total_death': str},\n",
       " {'new_deaths': numpy.int64},\n",
       " {'total_recovered': str},\n",
       " {'new_recovered': str},\n",
       " {'active_cases': str},\n",
       " {'serious_critical': str},\n",
       " {'total_cases_per_million': str},\n",
       " {'deaths_per_million': str},\n",
       " {'total_tests': str},\n",
       " {'tests_per_million': str},\n",
       " {'population': str},\n",
       " {'continent': str}]"
      ]
     },
     "execution_count": 8,
     "metadata": {},
     "output_type": "execute_result"
    }
   ],
   "source": [
    "df_cols_types =[]\n",
    "for i in cols:\n",
    "    df_cols_types.append({i:type(df[i].loc[0])})\n",
    "df_cols_types\n"
   ]
  },
  {
   "cell_type": "code",
   "execution_count": 9,
   "id": "9199e241",
   "metadata": {
    "scrolled": false
   },
   "outputs": [
    {
     "name": "stdout",
     "output_type": "stream",
     "text": [
      "<class 'pandas.core.frame.DataFrame'>\n",
      "RangeIndex: 230 entries, 0 to 229\n",
      "Data columns (total 16 columns):\n",
      " #   Column                   Non-Null Count  Dtype \n",
      "---  ------                   --------------  ----- \n",
      " 0   Id                       230 non-null    int64 \n",
      " 1   country                  224 non-null    object\n",
      " 2   total_cases              230 non-null    object\n",
      " 3   new_cases                230 non-null    object\n",
      " 4   total_death              230 non-null    object\n",
      " 5   new_deaths               230 non-null    int64 \n",
      " 6   total_recovered          230 non-null    object\n",
      " 7   new_recovered            230 non-null    object\n",
      " 8   active_cases             230 non-null    object\n",
      " 9   serious_critical         230 non-null    object\n",
      " 10  total_cases_per_million  230 non-null    object\n",
      " 11  deaths_per_million       230 non-null    object\n",
      " 12  total_tests              230 non-null    object\n",
      " 13  tests_per_million        230 non-null    object\n",
      " 14  population               227 non-null    object\n",
      " 15  continent                228 non-null    object\n",
      "dtypes: int64(2), object(14)\n",
      "memory usage: 28.9+ KB\n"
     ]
    }
   ],
   "source": [
    "df.info()"
   ]
  },
  {
   "cell_type": "markdown",
   "id": "d1628790",
   "metadata": {},
   "source": [
    "#### Let's make a first analysis on the data provided by `AMAN CHAUHAN`\n"
   ]
  },
  {
   "cell_type": "code",
   "execution_count": 10,
   "id": "41903fcb",
   "metadata": {
    "scrolled": false
   },
   "outputs": [
    {
     "data": {
      "text/html": [
       "<div>\n",
       "<style scoped>\n",
       "    .dataframe tbody tr th:only-of-type {\n",
       "        vertical-align: middle;\n",
       "    }\n",
       "\n",
       "    .dataframe tbody tr th {\n",
       "        vertical-align: top;\n",
       "    }\n",
       "\n",
       "    .dataframe thead th {\n",
       "        text-align: right;\n",
       "    }\n",
       "</style>\n",
       "<table border=\"1\" class=\"dataframe\">\n",
       "  <thead>\n",
       "    <tr style=\"text-align: right;\">\n",
       "      <th></th>\n",
       "      <th>#</th>\n",
       "      <th>Country,\\r\\nOther</th>\n",
       "      <th>Total\\r\\nCases</th>\n",
       "      <th>Total\\r\\nDeaths</th>\n",
       "      <th>New\\r\\nDeaths</th>\n",
       "      <th>Total\\r\\nRecovered</th>\n",
       "      <th>Active\\r\\nCases</th>\n",
       "      <th>Serious,\\r\\nCritical</th>\n",
       "      <th>Tot Cases/\\r\\n1M pop</th>\n",
       "      <th>Deaths/\\r\\n1M pop</th>\n",
       "      <th>Total\\r\\nTests</th>\n",
       "      <th>Tests/\\r\\n1M pop</th>\n",
       "      <th>Population</th>\n",
       "    </tr>\n",
       "  </thead>\n",
       "  <tbody>\n",
       "    <tr>\n",
       "      <th>0</th>\n",
       "      <td>1</td>\n",
       "      <td>USA</td>\n",
       "      <td>98,166,904</td>\n",
       "      <td>1,084,282</td>\n",
       "      <td>NaN</td>\n",
       "      <td>94,962,112</td>\n",
       "      <td>2,120,510</td>\n",
       "      <td>2,970</td>\n",
       "      <td>293,206</td>\n",
       "      <td>3,239</td>\n",
       "      <td>1,118,158,870</td>\n",
       "      <td>3,339,729</td>\n",
       "      <td>334,805,269</td>\n",
       "    </tr>\n",
       "    <tr>\n",
       "      <th>1</th>\n",
       "      <td>2</td>\n",
       "      <td>India</td>\n",
       "      <td>44,587,307</td>\n",
       "      <td>528,629</td>\n",
       "      <td>NaN</td>\n",
       "      <td>44,019,095</td>\n",
       "      <td>39,583</td>\n",
       "      <td>698</td>\n",
       "      <td>31,698</td>\n",
       "      <td>376</td>\n",
       "      <td>894,416,853</td>\n",
       "      <td>635,857</td>\n",
       "      <td>1,406,631,776</td>\n",
       "    </tr>\n",
       "    <tr>\n",
       "      <th>2</th>\n",
       "      <td>3</td>\n",
       "      <td>France</td>\n",
       "      <td>35,342,950</td>\n",
       "      <td>155,078</td>\n",
       "      <td>NaN</td>\n",
       "      <td>34,527,115</td>\n",
       "      <td>660,757</td>\n",
       "      <td>869</td>\n",
       "      <td>538,892</td>\n",
       "      <td>2,365</td>\n",
       "      <td>271,490,188</td>\n",
       "      <td>4,139,547</td>\n",
       "      <td>65,584,518</td>\n",
       "    </tr>\n",
       "    <tr>\n",
       "      <th>3</th>\n",
       "      <td>4</td>\n",
       "      <td>Brazil</td>\n",
       "      <td>34,706,757</td>\n",
       "      <td>686,027</td>\n",
       "      <td>NaN</td>\n",
       "      <td>33,838,636</td>\n",
       "      <td>182,094</td>\n",
       "      <td>8,318</td>\n",
       "      <td>161,162</td>\n",
       "      <td>3,186</td>\n",
       "      <td>63,776,166</td>\n",
       "      <td>296,146</td>\n",
       "      <td>215,353,593</td>\n",
       "    </tr>\n",
       "    <tr>\n",
       "      <th>4</th>\n",
       "      <td>5</td>\n",
       "      <td>Germany</td>\n",
       "      <td>33,312,373</td>\n",
       "      <td>149,948</td>\n",
       "      <td>NaN</td>\n",
       "      <td>32,315,200</td>\n",
       "      <td>847,225</td>\n",
       "      <td>1,406</td>\n",
       "      <td>397,126</td>\n",
       "      <td>1,788</td>\n",
       "      <td>122,332,384</td>\n",
       "      <td>1,458,359</td>\n",
       "      <td>83,883,596</td>\n",
       "    </tr>\n",
       "    <tr>\n",
       "      <th>5</th>\n",
       "      <td>6</td>\n",
       "      <td>S. Korea</td>\n",
       "      <td>24,769,101</td>\n",
       "      <td>28,406</td>\n",
       "      <td>42.0</td>\n",
       "      <td>24,013,461</td>\n",
       "      <td>727,234</td>\n",
       "      <td>352</td>\n",
       "      <td>482,547</td>\n",
       "      <td>553</td>\n",
       "      <td>15,804,065</td>\n",
       "      <td>307,892</td>\n",
       "      <td>51,329,899</td>\n",
       "    </tr>\n",
       "  </tbody>\n",
       "</table>\n",
       "</div>"
      ],
      "text/plain": [
       "   # Country,\\r\\nOther Total\\r\\nCases Total\\r\\nDeaths  New\\r\\nDeaths  \\\n",
       "0  1               USA     98,166,904       1,084,282            NaN   \n",
       "1  2             India     44,587,307         528,629            NaN   \n",
       "2  3            France     35,342,950         155,078            NaN   \n",
       "3  4            Brazil     34,706,757         686,027            NaN   \n",
       "4  5           Germany     33,312,373         149,948            NaN   \n",
       "5  6          S. Korea     24,769,101          28,406           42.0   \n",
       "\n",
       "  Total\\r\\nRecovered Active\\r\\nCases Serious,\\r\\nCritical  \\\n",
       "0         94,962,112       2,120,510                2,970   \n",
       "1         44,019,095          39,583                  698   \n",
       "2         34,527,115         660,757                  869   \n",
       "3         33,838,636         182,094                8,318   \n",
       "4         32,315,200         847,225                1,406   \n",
       "5         24,013,461         727,234                  352   \n",
       "\n",
       "  Tot Cases/\\r\\n1M pop Deaths/\\r\\n1M pop Total\\r\\nTests Tests/\\r\\n1M pop  \\\n",
       "0              293,206             3,239  1,118,158,870        3,339,729   \n",
       "1               31,698               376    894,416,853          635,857   \n",
       "2              538,892             2,365    271,490,188        4,139,547   \n",
       "3              161,162             3,186     63,776,166          296,146   \n",
       "4              397,126             1,788    122,332,384        1,458,359   \n",
       "5              482,547               553     15,804,065          307,892   \n",
       "\n",
       "      Population  \n",
       "0    334,805,269  \n",
       "1  1,406,631,776  \n",
       "2     65,584,518  \n",
       "3    215,353,593  \n",
       "4     83,883,596  \n",
       "5     51,329,899  "
      ]
     },
     "execution_count": 10,
     "metadata": {},
     "output_type": "execute_result"
    }
   ],
   "source": [
    "df_cov = pd.read_csv('./Data_Gathering/Covid Live.csv')\n",
    "df_cov.head(6)"
   ]
  },
  {
   "cell_type": "code",
   "execution_count": 11,
   "id": "25f7cc66",
   "metadata": {},
   "outputs": [
    {
     "data": {
      "text/plain": [
       "[{'#': 0},\n",
       " {'Country,\\r\\nOther': 0},\n",
       " {'Total\\r\\nCases': 0},\n",
       " {'Total\\r\\nDeaths': 5},\n",
       " {'New\\r\\nDeaths': 227},\n",
       " {'Total\\r\\nRecovered': 16},\n",
       " {'Active\\r\\nCases': 15},\n",
       " {'Serious,\\r\\nCritical': 83},\n",
       " {'Tot Cases/\\r\\n1M pop': 2},\n",
       " {'Deaths/\\r\\n1M pop': 7},\n",
       " {'Total\\r\\nTests': 16},\n",
       " {'Tests/\\r\\n1M pop': 16},\n",
       " {'Population': 2}]"
      ]
     },
     "execution_count": 11,
     "metadata": {},
     "output_type": "execute_result"
    }
   ],
   "source": [
    "df_cov_null_values =[]\n",
    "cols_cov = list(df_cov.columns)\n",
    "for i in cols_cov:\n",
    "    df_cov_null_values.append({i:df_cov[i].isnull().sum()})\n",
    "df_cov_null_values"
   ]
  },
  {
   "cell_type": "code",
   "execution_count": 12,
   "id": "76e097bc",
   "metadata": {},
   "outputs": [
    {
     "data": {
      "text/html": [
       "<div>\n",
       "<style scoped>\n",
       "    .dataframe tbody tr th:only-of-type {\n",
       "        vertical-align: middle;\n",
       "    }\n",
       "\n",
       "    .dataframe tbody tr th {\n",
       "        vertical-align: top;\n",
       "    }\n",
       "\n",
       "    .dataframe thead th {\n",
       "        text-align: right;\n",
       "    }\n",
       "</style>\n",
       "<table border=\"1\" class=\"dataframe\">\n",
       "  <thead>\n",
       "    <tr style=\"text-align: right;\">\n",
       "      <th></th>\n",
       "      <th>#</th>\n",
       "      <th>Country,\\r\\nOther</th>\n",
       "      <th>Total\\r\\nCases</th>\n",
       "      <th>Total\\r\\nDeaths</th>\n",
       "      <th>New\\r\\nDeaths</th>\n",
       "      <th>Total\\r\\nRecovered</th>\n",
       "      <th>Active\\r\\nCases</th>\n",
       "      <th>Serious,\\r\\nCritical</th>\n",
       "      <th>Tot Cases/\\r\\n1M pop</th>\n",
       "      <th>Deaths/\\r\\n1M pop</th>\n",
       "      <th>Total\\r\\nTests</th>\n",
       "      <th>Tests/\\r\\n1M pop</th>\n",
       "      <th>Population</th>\n",
       "    </tr>\n",
       "  </thead>\n",
       "  <tbody>\n",
       "    <tr>\n",
       "      <th>107</th>\n",
       "      <td>108</td>\n",
       "      <td>China</td>\n",
       "      <td>250,449</td>\n",
       "      <td>5,226</td>\n",
       "      <td>NaN</td>\n",
       "      <td>242,254</td>\n",
       "      <td>2,969</td>\n",
       "      <td>36</td>\n",
       "      <td>173</td>\n",
       "      <td>4</td>\n",
       "      <td>160,000,000</td>\n",
       "      <td>110,461</td>\n",
       "      <td>1,448,471,400</td>\n",
       "    </tr>\n",
       "  </tbody>\n",
       "</table>\n",
       "</div>"
      ],
      "text/plain": [
       "       # Country,\\r\\nOther Total\\r\\nCases Total\\r\\nDeaths  New\\r\\nDeaths  \\\n",
       "107  108             China        250,449           5,226            NaN   \n",
       "\n",
       "    Total\\r\\nRecovered Active\\r\\nCases Serious,\\r\\nCritical  \\\n",
       "107            242,254           2,969                   36   \n",
       "\n",
       "    Tot Cases/\\r\\n1M pop Deaths/\\r\\n1M pop Total\\r\\nTests Tests/\\r\\n1M pop  \\\n",
       "107                  173                 4    160,000,000          110,461   \n",
       "\n",
       "        Population  \n",
       "107  1,448,471,400  "
      ]
     },
     "execution_count": 12,
     "metadata": {},
     "output_type": "execute_result"
    }
   ],
   "source": [
    "df_cov[df_cov['Country,\\r\\nOther'] == 'China']"
   ]
  },
  {
   "cell_type": "code",
   "execution_count": 13,
   "id": "32da051f",
   "metadata": {
    "scrolled": true
   },
   "outputs": [
    {
     "data": {
      "text/html": [
       "<div>\n",
       "<style scoped>\n",
       "    .dataframe tbody tr th:only-of-type {\n",
       "        vertical-align: middle;\n",
       "    }\n",
       "\n",
       "    .dataframe tbody tr th {\n",
       "        vertical-align: top;\n",
       "    }\n",
       "\n",
       "    .dataframe thead th {\n",
       "        text-align: right;\n",
       "    }\n",
       "</style>\n",
       "<table border=\"1\" class=\"dataframe\">\n",
       "  <thead>\n",
       "    <tr style=\"text-align: right;\">\n",
       "      <th></th>\n",
       "      <th>#</th>\n",
       "      <th>Country,\\r\\nOther</th>\n",
       "      <th>Total\\r\\nCases</th>\n",
       "      <th>Total\\r\\nDeaths</th>\n",
       "      <th>New\\r\\nDeaths</th>\n",
       "      <th>Total\\r\\nRecovered</th>\n",
       "      <th>Active\\r\\nCases</th>\n",
       "      <th>Serious,\\r\\nCritical</th>\n",
       "      <th>Tot Cases/\\r\\n1M pop</th>\n",
       "      <th>Deaths/\\r\\n1M pop</th>\n",
       "      <th>Total\\r\\nTests</th>\n",
       "      <th>Tests/\\r\\n1M pop</th>\n",
       "      <th>Population</th>\n",
       "    </tr>\n",
       "  </thead>\n",
       "  <tbody>\n",
       "    <tr>\n",
       "      <th>224</th>\n",
       "      <td>225</td>\n",
       "      <td>Diamond Princess</td>\n",
       "      <td>712</td>\n",
       "      <td>13</td>\n",
       "      <td>NaN</td>\n",
       "      <td>699</td>\n",
       "      <td>0</td>\n",
       "      <td>NaN</td>\n",
       "      <td>NaN</td>\n",
       "      <td>NaN</td>\n",
       "      <td>NaN</td>\n",
       "      <td>NaN</td>\n",
       "      <td>NaN</td>\n",
       "    </tr>\n",
       "    <tr>\n",
       "      <th>229</th>\n",
       "      <td>230</td>\n",
       "      <td>MS Zaandam</td>\n",
       "      <td>9</td>\n",
       "      <td>2</td>\n",
       "      <td>NaN</td>\n",
       "      <td>7</td>\n",
       "      <td>0</td>\n",
       "      <td>NaN</td>\n",
       "      <td>NaN</td>\n",
       "      <td>NaN</td>\n",
       "      <td>NaN</td>\n",
       "      <td>NaN</td>\n",
       "      <td>NaN</td>\n",
       "    </tr>\n",
       "  </tbody>\n",
       "</table>\n",
       "</div>"
      ],
      "text/plain": [
       "       # Country,\\r\\nOther Total\\r\\nCases Total\\r\\nDeaths  New\\r\\nDeaths  \\\n",
       "224  225  Diamond Princess            712              13            NaN   \n",
       "229  230        MS Zaandam              9               2            NaN   \n",
       "\n",
       "    Total\\r\\nRecovered Active\\r\\nCases Serious,\\r\\nCritical  \\\n",
       "224                699               0                  NaN   \n",
       "229                  7               0                  NaN   \n",
       "\n",
       "    Tot Cases/\\r\\n1M pop Deaths/\\r\\n1M pop Total\\r\\nTests Tests/\\r\\n1M pop  \\\n",
       "224                  NaN               NaN            NaN              NaN   \n",
       "229                  NaN               NaN            NaN              NaN   \n",
       "\n",
       "    Population  \n",
       "224        NaN  \n",
       "229        NaN  "
      ]
     },
     "execution_count": 13,
     "metadata": {},
     "output_type": "execute_result"
    }
   ],
   "source": [
    "df_cov_empty_pop = df_cov[df_cov['Population'].isnull()]\n",
    "df_cov_empty_pop"
   ]
  },
  {
   "cell_type": "code",
   "execution_count": 14,
   "id": "45e33212",
   "metadata": {},
   "outputs": [
    {
     "data": {
      "text/html": [
       "<div>\n",
       "<style scoped>\n",
       "    .dataframe tbody tr th:only-of-type {\n",
       "        vertical-align: middle;\n",
       "    }\n",
       "\n",
       "    .dataframe tbody tr th {\n",
       "        vertical-align: top;\n",
       "    }\n",
       "\n",
       "    .dataframe thead th {\n",
       "        text-align: right;\n",
       "    }\n",
       "</style>\n",
       "<table border=\"1\" class=\"dataframe\">\n",
       "  <thead>\n",
       "    <tr style=\"text-align: right;\">\n",
       "      <th></th>\n",
       "      <th>#</th>\n",
       "      <th>Country,\\r\\nOther</th>\n",
       "      <th>Total\\r\\nCases</th>\n",
       "      <th>Total\\r\\nDeaths</th>\n",
       "      <th>New\\r\\nDeaths</th>\n",
       "      <th>Total\\r\\nRecovered</th>\n",
       "      <th>Active\\r\\nCases</th>\n",
       "      <th>Serious,\\r\\nCritical</th>\n",
       "      <th>Tot Cases/\\r\\n1M pop</th>\n",
       "      <th>Deaths/\\r\\n1M pop</th>\n",
       "      <th>Total\\r\\nTests</th>\n",
       "      <th>Tests/\\r\\n1M pop</th>\n",
       "      <th>Population</th>\n",
       "    </tr>\n",
       "  </thead>\n",
       "  <tbody>\n",
       "    <tr>\n",
       "      <th>219</th>\n",
       "      <td>220</td>\n",
       "      <td>Falkland Islands</td>\n",
       "      <td>1,886</td>\n",
       "      <td>NaN</td>\n",
       "      <td>NaN</td>\n",
       "      <td>1,886</td>\n",
       "      <td>0</td>\n",
       "      <td>NaN</td>\n",
       "      <td>532,919</td>\n",
       "      <td>NaN</td>\n",
       "      <td>8,632</td>\n",
       "      <td>2,439,107</td>\n",
       "      <td>3,539</td>\n",
       "    </tr>\n",
       "    <tr>\n",
       "      <th>221</th>\n",
       "      <td>222</td>\n",
       "      <td>Saint Helena</td>\n",
       "      <td>1,355</td>\n",
       "      <td>NaN</td>\n",
       "      <td>NaN</td>\n",
       "      <td>2</td>\n",
       "      <td>1,353</td>\n",
       "      <td>NaN</td>\n",
       "      <td>221,586</td>\n",
       "      <td>NaN</td>\n",
       "      <td>NaN</td>\n",
       "      <td>NaN</td>\n",
       "      <td>6,115</td>\n",
       "    </tr>\n",
       "    <tr>\n",
       "      <th>224</th>\n",
       "      <td>225</td>\n",
       "      <td>Diamond Princess</td>\n",
       "      <td>712</td>\n",
       "      <td>13</td>\n",
       "      <td>NaN</td>\n",
       "      <td>699</td>\n",
       "      <td>0</td>\n",
       "      <td>NaN</td>\n",
       "      <td>NaN</td>\n",
       "      <td>NaN</td>\n",
       "      <td>NaN</td>\n",
       "      <td>NaN</td>\n",
       "      <td>NaN</td>\n",
       "    </tr>\n",
       "    <tr>\n",
       "      <th>225</th>\n",
       "      <td>226</td>\n",
       "      <td>Niue</td>\n",
       "      <td>80</td>\n",
       "      <td>NaN</td>\n",
       "      <td>NaN</td>\n",
       "      <td>80</td>\n",
       "      <td>0</td>\n",
       "      <td>NaN</td>\n",
       "      <td>49,322</td>\n",
       "      <td>NaN</td>\n",
       "      <td>NaN</td>\n",
       "      <td>NaN</td>\n",
       "      <td>1,622</td>\n",
       "    </tr>\n",
       "    <tr>\n",
       "      <th>226</th>\n",
       "      <td>227</td>\n",
       "      <td>Vatican City</td>\n",
       "      <td>29</td>\n",
       "      <td>NaN</td>\n",
       "      <td>NaN</td>\n",
       "      <td>29</td>\n",
       "      <td>0</td>\n",
       "      <td>NaN</td>\n",
       "      <td>36,295</td>\n",
       "      <td>NaN</td>\n",
       "      <td>NaN</td>\n",
       "      <td>NaN</td>\n",
       "      <td>799</td>\n",
       "    </tr>\n",
       "    <tr>\n",
       "      <th>227</th>\n",
       "      <td>228</td>\n",
       "      <td>Tuvalu</td>\n",
       "      <td>20</td>\n",
       "      <td>NaN</td>\n",
       "      <td>NaN</td>\n",
       "      <td>NaN</td>\n",
       "      <td>20</td>\n",
       "      <td>NaN</td>\n",
       "      <td>1,658</td>\n",
       "      <td>NaN</td>\n",
       "      <td>NaN</td>\n",
       "      <td>NaN</td>\n",
       "      <td>12,066</td>\n",
       "    </tr>\n",
       "    <tr>\n",
       "      <th>229</th>\n",
       "      <td>230</td>\n",
       "      <td>MS Zaandam</td>\n",
       "      <td>9</td>\n",
       "      <td>2</td>\n",
       "      <td>NaN</td>\n",
       "      <td>7</td>\n",
       "      <td>0</td>\n",
       "      <td>NaN</td>\n",
       "      <td>NaN</td>\n",
       "      <td>NaN</td>\n",
       "      <td>NaN</td>\n",
       "      <td>NaN</td>\n",
       "      <td>NaN</td>\n",
       "    </tr>\n",
       "  </tbody>\n",
       "</table>\n",
       "</div>"
      ],
      "text/plain": [
       "       # Country,\\r\\nOther Total\\r\\nCases Total\\r\\nDeaths  New\\r\\nDeaths  \\\n",
       "219  220  Falkland Islands          1,886             NaN            NaN   \n",
       "221  222      Saint Helena          1,355             NaN            NaN   \n",
       "224  225  Diamond Princess            712              13            NaN   \n",
       "225  226              Niue             80             NaN            NaN   \n",
       "226  227      Vatican City             29             NaN            NaN   \n",
       "227  228            Tuvalu             20             NaN            NaN   \n",
       "229  230        MS Zaandam              9               2            NaN   \n",
       "\n",
       "    Total\\r\\nRecovered Active\\r\\nCases Serious,\\r\\nCritical  \\\n",
       "219              1,886               0                  NaN   \n",
       "221                  2           1,353                  NaN   \n",
       "224                699               0                  NaN   \n",
       "225                 80               0                  NaN   \n",
       "226                 29               0                  NaN   \n",
       "227                NaN              20                  NaN   \n",
       "229                  7               0                  NaN   \n",
       "\n",
       "    Tot Cases/\\r\\n1M pop Deaths/\\r\\n1M pop Total\\r\\nTests Tests/\\r\\n1M pop  \\\n",
       "219              532,919               NaN          8,632        2,439,107   \n",
       "221              221,586               NaN            NaN              NaN   \n",
       "224                  NaN               NaN            NaN              NaN   \n",
       "225               49,322               NaN            NaN              NaN   \n",
       "226               36,295               NaN            NaN              NaN   \n",
       "227                1,658               NaN            NaN              NaN   \n",
       "229                  NaN               NaN            NaN              NaN   \n",
       "\n",
       "    Population  \n",
       "219      3,539  \n",
       "221      6,115  \n",
       "224        NaN  \n",
       "225      1,622  \n",
       "226        799  \n",
       "227     12,066  \n",
       "229        NaN  "
      ]
     },
     "execution_count": 14,
     "metadata": {},
     "output_type": "execute_result"
    }
   ],
   "source": [
    "df_cov_empty_death = df_cov[df_cov['Deaths/\\r\\n1M pop'].isnull()]\n",
    "df_cov_empty_death"
   ]
  },
  {
   "cell_type": "markdown",
   "id": "f3b83bc3",
   "metadata": {},
   "source": [
    "## Assessing Data\n",
    "In this section, i'm going to detect and document quality and tidiness issue if there is. \n",
    "    We have the followings columns in this dataset:\n",
    "\n",
    "| **`Columns`**        | **`Description`**  |  \n",
    "| ------------- |-------------:|\n",
    "| Id   | ID of country |\n",
    "| country       |Country name     |\n",
    "| total_cases | Total number of cases   |\n",
    "| total_death   | Total number of death |\n",
    "| total_recovered      | Total number recovered  |\n",
    "| new_recovered | Number of new recovered      |\n",
    "| active_cases   | Covid active cases |\n",
    "| serious_critical     | Covid serious and critical cases |\n",
    "| total_cases_per_million      | Total number of cases per million on population  |\n",
    "| deaths_per_million | Total number of deaths per million on population   |\n",
    "| total_tests   | Total number of tests in country |\n",
    "| tests_per_million      |Total number of tests per million on population   |\n",
    "| population | Number of population  |\n",
    "| continent   | Continent of country |\n",
    "\n",
    ">First looks on data gathered (`Programatic assessment`). \n",
    "There are some missing values in 2022 dataset especially in country and population column. \n",
    "\n",
    "### Quality/Tidiness issues\n",
    "1. Change the columns names on dataset provided on Kaggle to have the same as the 2022 columns.\n",
    "\n",
    "2. Delete the new_cases and new_recovered columns in 2022 dataset.\n",
    "\n",
    "3. In the 2022 dataset, fill the countries missing by appropriate content.\n",
    "\n",
    "4. Replace None values by 0 in both datasets and especially for China in 2022 dataset check with original datas to set the population.\n",
    "\n",
    "5. Delete countries (Diamond Princess; and MS Zaandam ) due to data unavailability for a lot of important columns.\n",
    "\n",
    "6. Change the character strings and float present in the covid-related case listing columns into integers.\n",
    "\n",
    "7. Add continent from 2022 data in 2019 set of data based on country.\n",
    "\n",
    "8. Add the year column to differencify the two sets of data.\n",
    "\n",
    "9. Concat the two set of datas 2019 and 2022.\n",
    "\n"
   ]
  },
  {
   "cell_type": "markdown",
   "id": "17a05b63",
   "metadata": {},
   "source": [
    "## Cleaning Data"
   ]
  },
  {
   "cell_type": "code",
   "execution_count": 15,
   "id": "0f0004da",
   "metadata": {},
   "outputs": [],
   "source": [
    "df1_clean = df.copy()\n",
    "df2_clean = df_cov.copy()"
   ]
  },
  {
   "cell_type": "markdown",
   "id": "cc073f4b",
   "metadata": {},
   "source": [
    "### Issue #1:"
   ]
  },
  {
   "cell_type": "code",
   "execution_count": 16,
   "id": "20d53994",
   "metadata": {
    "scrolled": true
   },
   "outputs": [
    {
     "name": "stdout",
     "output_type": "stream",
     "text": [
      "['Id', 'country', 'total_cases', 'new_cases', 'total_death', 'new_deaths', 'total_recovered', 'new_recovered', 'active_cases', 'serious_critical', 'total_cases_per_million', 'deaths_per_million', 'total_tests', 'tests_per_million', 'population', 'continent']\n"
     ]
    },
    {
     "data": {
      "text/plain": [
       "['#',\n",
       " 'Country,\\r\\nOther',\n",
       " 'Total\\r\\nCases',\n",
       " 'Total\\r\\nDeaths',\n",
       " 'New\\r\\nDeaths',\n",
       " 'Total\\r\\nRecovered',\n",
       " 'Active\\r\\nCases',\n",
       " 'Serious,\\r\\nCritical',\n",
       " 'Tot Cases/\\r\\n1M pop',\n",
       " 'Deaths/\\r\\n1M pop',\n",
       " 'Total\\r\\nTests',\n",
       " 'Tests/\\r\\n1M pop',\n",
       " 'Population']"
      ]
     },
     "execution_count": 16,
     "metadata": {},
     "output_type": "execute_result"
    }
   ],
   "source": [
    "print(df1_clean.columns.tolist())\n",
    "df2_clean.columns.tolist()"
   ]
  },
  {
   "cell_type": "markdown",
   "id": "382faf47",
   "metadata": {},
   "source": [
    "#### Define\n",
    ">Uniformize columns name under simple terms in the data 2019. I will adopt simply the same as in 2022 data."
   ]
  },
  {
   "cell_type": "markdown",
   "id": "670d5b2b",
   "metadata": {},
   "source": [
    "#### Code"
   ]
  },
  {
   "cell_type": "code",
   "execution_count": 17,
   "id": "426d0237",
   "metadata": {},
   "outputs": [],
   "source": [
    "df2_clean.rename(columns={'#':'Id','Country,\\r\\nOther':'country','Total\\r\\nCases':'total_cases','Total\\r\\nDeaths':'total_death','New\\r\\nDeaths':'new_deaths','Total\\r\\nRecovered':'total_recovered','Active\\r\\nCases':'active_cases','Serious,\\r\\nCritical':'serious_critical','Tot Cases/\\r\\n1M pop':'total_cases_per_million','Deaths/\\r\\n1M pop':'deaths_per_million','Total\\r\\nTests':'total_tests','Tests/\\r\\n1M pop':'tests_per_million','Population':'population'},inplace =True)"
   ]
  },
  {
   "cell_type": "markdown",
   "id": "b0f69ee7",
   "metadata": {},
   "source": [
    "#### Test"
   ]
  },
  {
   "cell_type": "code",
   "execution_count": 18,
   "id": "e5e7ed4b",
   "metadata": {
    "scrolled": false
   },
   "outputs": [
    {
     "data": {
      "text/plain": [
       "['Id',\n",
       " 'country',\n",
       " 'total_cases',\n",
       " 'total_death',\n",
       " 'new_deaths',\n",
       " 'total_recovered',\n",
       " 'active_cases',\n",
       " 'serious_critical',\n",
       " 'total_cases_per_million',\n",
       " 'deaths_per_million',\n",
       " 'total_tests',\n",
       " 'tests_per_million',\n",
       " 'population']"
      ]
     },
     "execution_count": 18,
     "metadata": {},
     "output_type": "execute_result"
    }
   ],
   "source": [
    "df2_clean.columns.tolist()"
   ]
  },
  {
   "cell_type": "markdown",
   "id": "d6b7b7a1",
   "metadata": {},
   "source": [
    "***"
   ]
  },
  {
   "cell_type": "markdown",
   "id": "67438b4e",
   "metadata": {},
   "source": [
    "### Issue #2:"
   ]
  },
  {
   "cell_type": "code",
   "execution_count": 19,
   "id": "1bdb6583",
   "metadata": {
    "scrolled": true
   },
   "outputs": [
    {
     "data": {
      "text/plain": [
       "['Id',\n",
       " 'country',\n",
       " 'total_cases',\n",
       " 'new_cases',\n",
       " 'total_death',\n",
       " 'new_deaths',\n",
       " 'total_recovered',\n",
       " 'new_recovered',\n",
       " 'active_cases',\n",
       " 'serious_critical',\n",
       " 'total_cases_per_million',\n",
       " 'deaths_per_million',\n",
       " 'total_tests',\n",
       " 'tests_per_million',\n",
       " 'population',\n",
       " 'continent']"
      ]
     },
     "execution_count": 19,
     "metadata": {},
     "output_type": "execute_result"
    }
   ],
   "source": [
    "df1_clean.columns.tolist()"
   ]
  },
  {
   "cell_type": "markdown",
   "id": "03edf28f",
   "metadata": {},
   "source": [
    "#### Define\n",
    ">Delete the new_cases and new_recovered columns in 2022 dataset."
   ]
  },
  {
   "cell_type": "markdown",
   "id": "af9d394e",
   "metadata": {},
   "source": [
    "#### Code"
   ]
  },
  {
   "cell_type": "code",
   "execution_count": 20,
   "id": "969a35ce",
   "metadata": {},
   "outputs": [],
   "source": [
    "df1_clean.drop(axis =1,columns=['new_cases','new_recovered'],inplace =True)"
   ]
  },
  {
   "cell_type": "markdown",
   "id": "3c8e134a",
   "metadata": {},
   "source": [
    "#### Test"
   ]
  },
  {
   "cell_type": "code",
   "execution_count": 21,
   "id": "bca8073a",
   "metadata": {
    "scrolled": false
   },
   "outputs": [
    {
     "data": {
      "text/plain": [
       "['Id',\n",
       " 'country',\n",
       " 'total_cases',\n",
       " 'total_death',\n",
       " 'new_deaths',\n",
       " 'total_recovered',\n",
       " 'active_cases',\n",
       " 'serious_critical',\n",
       " 'total_cases_per_million',\n",
       " 'deaths_per_million',\n",
       " 'total_tests',\n",
       " 'tests_per_million',\n",
       " 'population',\n",
       " 'continent']"
      ]
     },
     "execution_count": 21,
     "metadata": {},
     "output_type": "execute_result"
    }
   ],
   "source": [
    "df1_clean.columns.tolist()"
   ]
  },
  {
   "cell_type": "markdown",
   "id": "0db3d11c",
   "metadata": {},
   "source": [
    "***"
   ]
  },
  {
   "cell_type": "markdown",
   "id": "76c6ffbb",
   "metadata": {},
   "source": [
    "### Issue #3:"
   ]
  },
  {
   "cell_type": "code",
   "execution_count": 22,
   "id": "ee85812c",
   "metadata": {
    "scrolled": true
   },
   "outputs": [
    {
     "data": {
      "text/html": [
       "<div>\n",
       "<style scoped>\n",
       "    .dataframe tbody tr th:only-of-type {\n",
       "        vertical-align: middle;\n",
       "    }\n",
       "\n",
       "    .dataframe tbody tr th {\n",
       "        vertical-align: top;\n",
       "    }\n",
       "\n",
       "    .dataframe thead th {\n",
       "        text-align: right;\n",
       "    }\n",
       "</style>\n",
       "<table border=\"1\" class=\"dataframe\">\n",
       "  <thead>\n",
       "    <tr style=\"text-align: right;\">\n",
       "      <th></th>\n",
       "      <th>Id</th>\n",
       "      <th>country</th>\n",
       "      <th>total_cases</th>\n",
       "      <th>new_cases</th>\n",
       "      <th>total_death</th>\n",
       "      <th>new_deaths</th>\n",
       "      <th>total_recovered</th>\n",
       "      <th>new_recovered</th>\n",
       "      <th>active_cases</th>\n",
       "      <th>serious_critical</th>\n",
       "      <th>total_cases_per_million</th>\n",
       "      <th>deaths_per_million</th>\n",
       "      <th>total_tests</th>\n",
       "      <th>tests_per_million</th>\n",
       "      <th>population</th>\n",
       "      <th>continent</th>\n",
       "    </tr>\n",
       "  </thead>\n",
       "  <tbody>\n",
       "    <tr>\n",
       "      <th>92</th>\n",
       "      <td>93</td>\n",
       "      <td>NaN</td>\n",
       "      <td>477,305</td>\n",
       "      <td>0</td>\n",
       "      <td>903</td>\n",
       "      <td>0</td>\n",
       "      <td>418,572</td>\n",
       "      <td>0</td>\n",
       "      <td>57,830</td>\n",
       "      <td>10</td>\n",
       "      <td>525,631</td>\n",
       "      <td>994</td>\n",
       "      <td>1,603,660</td>\n",
       "      <td>1,766,027</td>\n",
       "      <td>908,061</td>\n",
       "      <td>Africa</td>\n",
       "    </tr>\n",
       "    <tr>\n",
       "      <th>153</th>\n",
       "      <td>154</td>\n",
       "      <td>NaN</td>\n",
       "      <td>45,986</td>\n",
       "      <td>0</td>\n",
       "      <td>295</td>\n",
       "      <td>0</td>\n",
       "      <td>44,720</td>\n",
       "      <td>0</td>\n",
       "      <td>971</td>\n",
       "      <td>3</td>\n",
       "      <td>277,812</td>\n",
       "      <td>1,782</td>\n",
       "      <td>496,693</td>\n",
       "      <td>3,000,640</td>\n",
       "      <td>165,529</td>\n",
       "      <td>North America</td>\n",
       "    </tr>\n",
       "    <tr>\n",
       "      <th>172</th>\n",
       "      <td>173</td>\n",
       "      <td>NaN</td>\n",
       "      <td>23,360</td>\n",
       "      <td>0</td>\n",
       "      <td>138</td>\n",
       "      <td>0</td>\n",
       "      <td>23,102</td>\n",
       "      <td>0</td>\n",
       "      <td>120</td>\n",
       "      <td>17,058</td>\n",
       "      <td>101</td>\n",
       "      <td>278,529</td>\n",
       "      <td>203,391</td>\n",
       "      <td>0</td>\n",
       "      <td>1,369,429</td>\n",
       "      <td>Asia</td>\n",
       "    </tr>\n",
       "    <tr>\n",
       "      <th>202</th>\n",
       "      <td>203</td>\n",
       "      <td>NaN</td>\n",
       "      <td>8,848</td>\n",
       "      <td>0</td>\n",
       "      <td>176</td>\n",
       "      <td>0</td>\n",
       "      <td>8,642</td>\n",
       "      <td>0</td>\n",
       "      <td>30</td>\n",
       "      <td>6</td>\n",
       "      <td>4,288</td>\n",
       "      <td>85</td>\n",
       "      <td>145,231</td>\n",
       "      <td>70,385</td>\n",
       "      <td>2,063,367</td>\n",
       "      <td>Africa</td>\n",
       "    </tr>\n",
       "    <tr>\n",
       "      <th>224</th>\n",
       "      <td>225</td>\n",
       "      <td>NaN</td>\n",
       "      <td>712</td>\n",
       "      <td>0</td>\n",
       "      <td>13</td>\n",
       "      <td>0</td>\n",
       "      <td>699</td>\n",
       "      <td>0</td>\n",
       "      <td>0</td>\n",
       "      <td>0</td>\n",
       "      <td>0</td>\n",
       "      <td>0</td>\n",
       "      <td>0</td>\n",
       "      <td>0</td>\n",
       "      <td>NaN</td>\n",
       "      <td>NaN</td>\n",
       "    </tr>\n",
       "    <tr>\n",
       "      <th>228</th>\n",
       "      <td>229</td>\n",
       "      <td>NaN</td>\n",
       "      <td>9</td>\n",
       "      <td>0</td>\n",
       "      <td>2</td>\n",
       "      <td>0</td>\n",
       "      <td>7</td>\n",
       "      <td>0</td>\n",
       "      <td>0</td>\n",
       "      <td>0</td>\n",
       "      <td>0</td>\n",
       "      <td>0</td>\n",
       "      <td>0</td>\n",
       "      <td>0</td>\n",
       "      <td>NaN</td>\n",
       "      <td>NaN</td>\n",
       "    </tr>\n",
       "  </tbody>\n",
       "</table>\n",
       "</div>"
      ],
      "text/plain": [
       "      Id country total_cases new_cases total_death  new_deaths  \\\n",
       "92    93     NaN     477,305         0         903           0   \n",
       "153  154     NaN      45,986         0         295           0   \n",
       "172  173     NaN      23,360         0         138           0   \n",
       "202  203     NaN       8,848         0         176           0   \n",
       "224  225     NaN         712         0          13           0   \n",
       "228  229     NaN           9         0           2           0   \n",
       "\n",
       "    total_recovered new_recovered active_cases serious_critical  \\\n",
       "92          418,572             0       57,830               10   \n",
       "153          44,720             0          971                3   \n",
       "172          23,102             0          120           17,058   \n",
       "202           8,642             0           30                6   \n",
       "224             699             0            0                0   \n",
       "228               7             0            0                0   \n",
       "\n",
       "    total_cases_per_million deaths_per_million total_tests tests_per_million  \\\n",
       "92                  525,631                994   1,603,660         1,766,027   \n",
       "153                 277,812              1,782     496,693         3,000,640   \n",
       "172                     101            278,529     203,391                 0   \n",
       "202                   4,288                 85     145,231            70,385   \n",
       "224                       0                  0           0                 0   \n",
       "228                       0                  0           0                 0   \n",
       "\n",
       "    population      continent  \n",
       "92     908,061         Africa  \n",
       "153    165,529  North America  \n",
       "172  1,369,429           Asia  \n",
       "202  2,063,367         Africa  \n",
       "224        NaN            NaN  \n",
       "228        NaN            NaN  "
      ]
     },
     "execution_count": 22,
     "metadata": {},
     "output_type": "execute_result"
    }
   ],
   "source": [
    "df_empty_country"
   ]
  },
  {
   "cell_type": "markdown",
   "id": "29c025f2",
   "metadata": {},
   "source": [
    "#### Define\n",
    ">In the 2022 dataset, fill the countries missing by appropriate content."
   ]
  },
  {
   "cell_type": "markdown",
   "id": "6e8ba3bf",
   "metadata": {},
   "source": [
    "#### Code"
   ]
  },
  {
   "cell_type": "code",
   "execution_count": 23,
   "id": "43bcb5cc",
   "metadata": {},
   "outputs": [
    {
     "name": "stderr",
     "output_type": "stream",
     "text": [
      "C:\\Users\\SC00454\\Anaconda3\\lib\\site-packages\\pandas\\core\\indexing.py:1637: SettingWithCopyWarning: \n",
      "A value is trying to be set on a copy of a slice from a DataFrame\n",
      "\n",
      "See the caveats in the documentation: https://pandas.pydata.org/pandas-docs/stable/user_guide/indexing.html#returning-a-view-versus-a-copy\n",
      "  self._setitem_single_block(indexer, value, name)\n"
     ]
    }
   ],
   "source": [
    "df1_clean['country'].loc[92] = 'Réunion'\n",
    "df1_clean['country'].loc[153] = 'Curaçao'\n",
    "df1_clean['country'].loc[172] = 'Timor-Leste'\n",
    "df1_clean['country'].loc[202] = 'Guinea-Bissau'\n",
    "df1_clean['country'].loc[224] = 'Diamond Princess'\n",
    "df1_clean['country'].loc[228] = 'MS Zaandam'\n",
    "\n"
   ]
  },
  {
   "cell_type": "markdown",
   "id": "cb8c63d7",
   "metadata": {},
   "source": [
    "#### Test"
   ]
  },
  {
   "cell_type": "code",
   "execution_count": 24,
   "id": "a9068874",
   "metadata": {
    "scrolled": false
   },
   "outputs": [
    {
     "name": "stdout",
     "output_type": "stream",
     "text": [
      "      Id         country total_cases total_death  new_deaths total_recovered  \\\n",
      "225  226            Niue         189           0           0             143   \n",
      "226  227    Vatican City          29           0           0              29   \n",
      "227  228  Western Sahara          10           1           0               9   \n",
      "228  229      MS Zaandam           9           2           0               7   \n",
      "229  230           China     357,652       5,235           0         309,259   \n",
      "\n",
      "    active_cases serious_critical total_cases_per_million deaths_per_million  \\\n",
      "225           46          116,523                       0                  0   \n",
      "226            0           36,295                       0                  0   \n",
      "227            0               16                       2                  0   \n",
      "228            0                0                       0                  0   \n",
      "229       43,158              143                     247                  4   \n",
      "\n",
      "     total_tests tests_per_million population          continent  \n",
      "225            0                 0      1,622  Australia/Oceania  \n",
      "226            0                 0        799             Europe  \n",
      "227            0                 0    626,161             Africa  \n",
      "228            0                 0        NaN                NaN  \n",
      "229  160,000,000           110,461        NaN               Asia  \n"
     ]
    },
    {
     "data": {
      "text/plain": [
       "0"
      ]
     },
     "execution_count": 24,
     "metadata": {},
     "output_type": "execute_result"
    }
   ],
   "source": [
    "print(df1_clean.tail(5))\n",
    "df1_clean.country.isnull().sum()\n"
   ]
  },
  {
   "cell_type": "markdown",
   "id": "14c1875e",
   "metadata": {},
   "source": [
    "***"
   ]
  },
  {
   "cell_type": "markdown",
   "id": "c4af7a2d",
   "metadata": {},
   "source": [
    "### Issue #4:"
   ]
  },
  {
   "cell_type": "code",
   "execution_count": 25,
   "id": "112a79b1",
   "metadata": {
    "scrolled": false
   },
   "outputs": [
    {
     "name": "stdout",
     "output_type": "stream",
     "text": [
      "<class 'pandas.core.frame.DataFrame'>\n",
      "RangeIndex: 230 entries, 0 to 229\n",
      "Data columns (total 14 columns):\n",
      " #   Column                   Non-Null Count  Dtype \n",
      "---  ------                   --------------  ----- \n",
      " 0   Id                       230 non-null    int64 \n",
      " 1   country                  230 non-null    object\n",
      " 2   total_cases              230 non-null    object\n",
      " 3   total_death              230 non-null    object\n",
      " 4   new_deaths               230 non-null    int64 \n",
      " 5   total_recovered          230 non-null    object\n",
      " 6   active_cases             230 non-null    object\n",
      " 7   serious_critical         230 non-null    object\n",
      " 8   total_cases_per_million  230 non-null    object\n",
      " 9   deaths_per_million       230 non-null    object\n",
      " 10  total_tests              230 non-null    object\n",
      " 11  tests_per_million        230 non-null    object\n",
      " 12  population               227 non-null    object\n",
      " 13  continent                228 non-null    object\n",
      "dtypes: int64(2), object(12)\n",
      "memory usage: 25.3+ KB\n"
     ]
    }
   ],
   "source": [
    "df1_clean.info()"
   ]
  },
  {
   "cell_type": "code",
   "execution_count": 26,
   "id": "0b7da4b0",
   "metadata": {},
   "outputs": [
    {
     "data": {
      "text/html": [
       "<div>\n",
       "<style scoped>\n",
       "    .dataframe tbody tr th:only-of-type {\n",
       "        vertical-align: middle;\n",
       "    }\n",
       "\n",
       "    .dataframe tbody tr th {\n",
       "        vertical-align: top;\n",
       "    }\n",
       "\n",
       "    .dataframe thead th {\n",
       "        text-align: right;\n",
       "    }\n",
       "</style>\n",
       "<table border=\"1\" class=\"dataframe\">\n",
       "  <thead>\n",
       "    <tr style=\"text-align: right;\">\n",
       "      <th></th>\n",
       "      <th>Id</th>\n",
       "      <th>country</th>\n",
       "      <th>total_cases</th>\n",
       "      <th>total_death</th>\n",
       "      <th>new_deaths</th>\n",
       "      <th>total_recovered</th>\n",
       "      <th>active_cases</th>\n",
       "      <th>serious_critical</th>\n",
       "      <th>total_cases_per_million</th>\n",
       "      <th>deaths_per_million</th>\n",
       "      <th>total_tests</th>\n",
       "      <th>tests_per_million</th>\n",
       "      <th>population</th>\n",
       "      <th>continent</th>\n",
       "    </tr>\n",
       "  </thead>\n",
       "  <tbody>\n",
       "    <tr>\n",
       "      <th>229</th>\n",
       "      <td>230</td>\n",
       "      <td>China</td>\n",
       "      <td>357,652</td>\n",
       "      <td>5,235</td>\n",
       "      <td>0</td>\n",
       "      <td>309,259</td>\n",
       "      <td>43,158</td>\n",
       "      <td>143</td>\n",
       "      <td>247</td>\n",
       "      <td>4</td>\n",
       "      <td>160,000,000</td>\n",
       "      <td>110,461</td>\n",
       "      <td>NaN</td>\n",
       "      <td>Asia</td>\n",
       "    </tr>\n",
       "  </tbody>\n",
       "</table>\n",
       "</div>"
      ],
      "text/plain": [
       "      Id country total_cases total_death  new_deaths total_recovered  \\\n",
       "229  230   China     357,652       5,235           0         309,259   \n",
       "\n",
       "    active_cases serious_critical total_cases_per_million deaths_per_million  \\\n",
       "229       43,158              143                     247                  4   \n",
       "\n",
       "     total_tests tests_per_million population continent  \n",
       "229  160,000,000           110,461        NaN      Asia  "
      ]
     },
     "execution_count": 26,
     "metadata": {},
     "output_type": "execute_result"
    }
   ],
   "source": [
    "df1_clean[df1_clean.country == 'China']"
   ]
  },
  {
   "cell_type": "code",
   "execution_count": 27,
   "id": "7e205c7f",
   "metadata": {},
   "outputs": [
    {
     "name": "stdout",
     "output_type": "stream",
     "text": [
      "<class 'pandas.core.frame.DataFrame'>\n",
      "RangeIndex: 230 entries, 0 to 229\n",
      "Data columns (total 13 columns):\n",
      " #   Column                   Non-Null Count  Dtype  \n",
      "---  ------                   --------------  -----  \n",
      " 0   Id                       230 non-null    int64  \n",
      " 1   country                  230 non-null    object \n",
      " 2   total_cases              230 non-null    object \n",
      " 3   total_death              225 non-null    object \n",
      " 4   new_deaths               3 non-null      float64\n",
      " 5   total_recovered          214 non-null    object \n",
      " 6   active_cases             215 non-null    object \n",
      " 7   serious_critical         147 non-null    object \n",
      " 8   total_cases_per_million  228 non-null    object \n",
      " 9   deaths_per_million       223 non-null    object \n",
      " 10  total_tests              214 non-null    object \n",
      " 11  tests_per_million        214 non-null    object \n",
      " 12  population               228 non-null    object \n",
      "dtypes: float64(1), int64(1), object(11)\n",
      "memory usage: 23.5+ KB\n"
     ]
    }
   ],
   "source": [
    "df2_clean.info()"
   ]
  },
  {
   "cell_type": "markdown",
   "id": "41c43f4f",
   "metadata": {},
   "source": [
    "#### Define\n",
    ">Replace None values by 0 in both datasets and especially for China in 2022 dataset check with original datas to set the population."
   ]
  },
  {
   "cell_type": "markdown",
   "id": "57d8a7e1",
   "metadata": {},
   "source": [
    "#### Code"
   ]
  },
  {
   "cell_type": "code",
   "execution_count": 28,
   "id": "80669be5",
   "metadata": {
    "scrolled": true
   },
   "outputs": [
    {
     "name": "stderr",
     "output_type": "stream",
     "text": [
      "C:\\Users\\SC00454\\Anaconda3\\lib\\site-packages\\pandas\\core\\indexing.py:1637: SettingWithCopyWarning: \n",
      "A value is trying to be set on a copy of a slice from a DataFrame\n",
      "\n",
      "See the caveats in the documentation: https://pandas.pydata.org/pandas-docs/stable/user_guide/indexing.html#returning-a-view-versus-a-copy\n",
      "  self._setitem_single_block(indexer, value, name)\n"
     ]
    }
   ],
   "source": [
    "#df1_clean['population'].loc[229] = df2_clean[df2_clean.country == 'China']['population']\n",
    "df1_clean['population'].loc[229] = df2_clean[df2_clean.country == 'China']['population'].loc[107]\n"
   ]
  },
  {
   "cell_type": "code",
   "execution_count": 29,
   "id": "f792886e",
   "metadata": {},
   "outputs": [],
   "source": [
    "df1_clean.fillna(0, inplace=True)\n",
    "df2_clean.fillna(0,inplace = True)"
   ]
  },
  {
   "cell_type": "markdown",
   "id": "0e89f7f2",
   "metadata": {},
   "source": [
    "#### Test"
   ]
  },
  {
   "cell_type": "code",
   "execution_count": 30,
   "id": "34be87cb",
   "metadata": {
    "scrolled": false
   },
   "outputs": [
    {
     "name": "stdout",
     "output_type": "stream",
     "text": [
      "      Id country total_cases total_death  new_deaths total_recovered  \\\n",
      "229  230   China     357,652       5,235           0         309,259   \n",
      "\n",
      "    active_cases serious_critical total_cases_per_million deaths_per_million  \\\n",
      "229       43,158              143                     247                  4   \n",
      "\n",
      "     total_tests tests_per_million     population continent  \n",
      "229  160,000,000           110,461  1,448,471,400      Asia  \n",
      "<class 'pandas.core.frame.DataFrame'>\n",
      "RangeIndex: 230 entries, 0 to 229\n",
      "Data columns (total 14 columns):\n",
      " #   Column                   Non-Null Count  Dtype \n",
      "---  ------                   --------------  ----- \n",
      " 0   Id                       230 non-null    int64 \n",
      " 1   country                  230 non-null    object\n",
      " 2   total_cases              230 non-null    object\n",
      " 3   total_death              230 non-null    object\n",
      " 4   new_deaths               230 non-null    int64 \n",
      " 5   total_recovered          230 non-null    object\n",
      " 6   active_cases             230 non-null    object\n",
      " 7   serious_critical         230 non-null    object\n",
      " 8   total_cases_per_million  230 non-null    object\n",
      " 9   deaths_per_million       230 non-null    object\n",
      " 10  total_tests              230 non-null    object\n",
      " 11  tests_per_million        230 non-null    object\n",
      " 12  population               230 non-null    object\n",
      " 13  continent                230 non-null    object\n",
      "dtypes: int64(2), object(12)\n",
      "memory usage: 25.3+ KB\n",
      "None\n",
      "<class 'pandas.core.frame.DataFrame'>\n",
      "RangeIndex: 230 entries, 0 to 229\n",
      "Data columns (total 13 columns):\n",
      " #   Column                   Non-Null Count  Dtype  \n",
      "---  ------                   --------------  -----  \n",
      " 0   Id                       230 non-null    int64  \n",
      " 1   country                  230 non-null    object \n",
      " 2   total_cases              230 non-null    object \n",
      " 3   total_death              230 non-null    object \n",
      " 4   new_deaths               230 non-null    float64\n",
      " 5   total_recovered          230 non-null    object \n",
      " 6   active_cases             230 non-null    object \n",
      " 7   serious_critical         230 non-null    object \n",
      " 8   total_cases_per_million  230 non-null    object \n",
      " 9   deaths_per_million       230 non-null    object \n",
      " 10  total_tests              230 non-null    object \n",
      " 11  tests_per_million        230 non-null    object \n",
      " 12  population               230 non-null    object \n",
      "dtypes: float64(1), int64(1), object(11)\n",
      "memory usage: 23.5+ KB\n",
      "None\n"
     ]
    }
   ],
   "source": [
    "print(df1_clean[df1_clean.country == 'China'])\n",
    "print(df1_clean.info())\n",
    "print(df2_clean.info())"
   ]
  },
  {
   "cell_type": "markdown",
   "id": "7b536970",
   "metadata": {},
   "source": [
    "***"
   ]
  },
  {
   "cell_type": "markdown",
   "id": "a239a0f0",
   "metadata": {},
   "source": [
    "### Issue #5:"
   ]
  },
  {
   "cell_type": "code",
   "execution_count": 31,
   "id": "6e68afca",
   "metadata": {},
   "outputs": [
    {
     "data": {
      "text/html": [
       "<div>\n",
       "<style scoped>\n",
       "    .dataframe tbody tr th:only-of-type {\n",
       "        vertical-align: middle;\n",
       "    }\n",
       "\n",
       "    .dataframe tbody tr th {\n",
       "        vertical-align: top;\n",
       "    }\n",
       "\n",
       "    .dataframe thead th {\n",
       "        text-align: right;\n",
       "    }\n",
       "</style>\n",
       "<table border=\"1\" class=\"dataframe\">\n",
       "  <thead>\n",
       "    <tr style=\"text-align: right;\">\n",
       "      <th></th>\n",
       "      <th>Id</th>\n",
       "      <th>country</th>\n",
       "      <th>total_cases</th>\n",
       "      <th>total_death</th>\n",
       "      <th>new_deaths</th>\n",
       "      <th>total_recovered</th>\n",
       "      <th>active_cases</th>\n",
       "      <th>serious_critical</th>\n",
       "      <th>total_cases_per_million</th>\n",
       "      <th>deaths_per_million</th>\n",
       "      <th>total_tests</th>\n",
       "      <th>tests_per_million</th>\n",
       "      <th>population</th>\n",
       "      <th>continent</th>\n",
       "    </tr>\n",
       "  </thead>\n",
       "  <tbody>\n",
       "    <tr>\n",
       "      <th>224</th>\n",
       "      <td>225</td>\n",
       "      <td>Diamond Princess</td>\n",
       "      <td>712</td>\n",
       "      <td>13</td>\n",
       "      <td>0</td>\n",
       "      <td>699</td>\n",
       "      <td>0</td>\n",
       "      <td>0</td>\n",
       "      <td>0</td>\n",
       "      <td>0</td>\n",
       "      <td>0</td>\n",
       "      <td>0</td>\n",
       "      <td>0</td>\n",
       "      <td>0</td>\n",
       "    </tr>\n",
       "    <tr>\n",
       "      <th>228</th>\n",
       "      <td>229</td>\n",
       "      <td>MS Zaandam</td>\n",
       "      <td>9</td>\n",
       "      <td>2</td>\n",
       "      <td>0</td>\n",
       "      <td>7</td>\n",
       "      <td>0</td>\n",
       "      <td>0</td>\n",
       "      <td>0</td>\n",
       "      <td>0</td>\n",
       "      <td>0</td>\n",
       "      <td>0</td>\n",
       "      <td>0</td>\n",
       "      <td>0</td>\n",
       "    </tr>\n",
       "  </tbody>\n",
       "</table>\n",
       "</div>"
      ],
      "text/plain": [
       "      Id           country total_cases total_death  new_deaths  \\\n",
       "224  225  Diamond Princess         712          13           0   \n",
       "228  229        MS Zaandam           9           2           0   \n",
       "\n",
       "    total_recovered active_cases serious_critical total_cases_per_million  \\\n",
       "224             699            0                0                       0   \n",
       "228               7            0                0                       0   \n",
       "\n",
       "    deaths_per_million total_tests tests_per_million population continent  \n",
       "224                  0           0                 0          0         0  \n",
       "228                  0           0                 0          0         0  "
      ]
     },
     "execution_count": 31,
     "metadata": {},
     "output_type": "execute_result"
    }
   ],
   "source": [
    "df1_clean[df1_clean.population == 0]"
   ]
  },
  {
   "cell_type": "code",
   "execution_count": 32,
   "id": "c21b3ddd",
   "metadata": {},
   "outputs": [
    {
     "data": {
      "text/html": [
       "<div>\n",
       "<style scoped>\n",
       "    .dataframe tbody tr th:only-of-type {\n",
       "        vertical-align: middle;\n",
       "    }\n",
       "\n",
       "    .dataframe tbody tr th {\n",
       "        vertical-align: top;\n",
       "    }\n",
       "\n",
       "    .dataframe thead th {\n",
       "        text-align: right;\n",
       "    }\n",
       "</style>\n",
       "<table border=\"1\" class=\"dataframe\">\n",
       "  <thead>\n",
       "    <tr style=\"text-align: right;\">\n",
       "      <th></th>\n",
       "      <th>Id</th>\n",
       "      <th>country</th>\n",
       "      <th>total_cases</th>\n",
       "      <th>total_death</th>\n",
       "      <th>new_deaths</th>\n",
       "      <th>total_recovered</th>\n",
       "      <th>active_cases</th>\n",
       "      <th>serious_critical</th>\n",
       "      <th>total_cases_per_million</th>\n",
       "      <th>deaths_per_million</th>\n",
       "      <th>total_tests</th>\n",
       "      <th>tests_per_million</th>\n",
       "      <th>population</th>\n",
       "    </tr>\n",
       "  </thead>\n",
       "  <tbody>\n",
       "    <tr>\n",
       "      <th>224</th>\n",
       "      <td>225</td>\n",
       "      <td>Diamond Princess</td>\n",
       "      <td>712</td>\n",
       "      <td>13</td>\n",
       "      <td>0.0</td>\n",
       "      <td>699</td>\n",
       "      <td>0</td>\n",
       "      <td>0</td>\n",
       "      <td>0</td>\n",
       "      <td>0</td>\n",
       "      <td>0</td>\n",
       "      <td>0</td>\n",
       "      <td>0</td>\n",
       "    </tr>\n",
       "    <tr>\n",
       "      <th>229</th>\n",
       "      <td>230</td>\n",
       "      <td>MS Zaandam</td>\n",
       "      <td>9</td>\n",
       "      <td>2</td>\n",
       "      <td>0.0</td>\n",
       "      <td>7</td>\n",
       "      <td>0</td>\n",
       "      <td>0</td>\n",
       "      <td>0</td>\n",
       "      <td>0</td>\n",
       "      <td>0</td>\n",
       "      <td>0</td>\n",
       "      <td>0</td>\n",
       "    </tr>\n",
       "  </tbody>\n",
       "</table>\n",
       "</div>"
      ],
      "text/plain": [
       "      Id           country total_cases total_death  new_deaths  \\\n",
       "224  225  Diamond Princess         712          13         0.0   \n",
       "229  230        MS Zaandam           9           2         0.0   \n",
       "\n",
       "    total_recovered active_cases serious_critical total_cases_per_million  \\\n",
       "224             699            0                0                       0   \n",
       "229               7            0                0                       0   \n",
       "\n",
       "    deaths_per_million total_tests tests_per_million population  \n",
       "224                  0           0                 0          0  \n",
       "229                  0           0                 0          0  "
      ]
     },
     "execution_count": 32,
     "metadata": {},
     "output_type": "execute_result"
    }
   ],
   "source": [
    "df2_clean[df2_clean.population == 0]"
   ]
  },
  {
   "cell_type": "markdown",
   "id": "48c6a67a",
   "metadata": {},
   "source": [
    "#### Define\n",
    ">Delete countries (Diamond Princess; and MS Zaandam ) due to data unavailability for a lot of important columns."
   ]
  },
  {
   "cell_type": "markdown",
   "id": "30175257",
   "metadata": {},
   "source": [
    "#### Code"
   ]
  },
  {
   "cell_type": "code",
   "execution_count": 33,
   "id": "7257237d",
   "metadata": {},
   "outputs": [],
   "source": [
    "df1_clean.drop(df1_clean[df1_clean.country.isin(['Diamond Princess','MS Zaandam'])].index, inplace =True)\n",
    "df2_clean.drop(df2_clean[df2_clean.country.isin(['Diamond Princess','MS Zaandam'])].index, inplace =True)"
   ]
  },
  {
   "cell_type": "markdown",
   "id": "04c3e817",
   "metadata": {},
   "source": [
    "#### Test"
   ]
  },
  {
   "cell_type": "code",
   "execution_count": 34,
   "id": "e26e5526",
   "metadata": {
    "scrolled": false
   },
   "outputs": [
    {
     "name": "stdout",
     "output_type": "stream",
     "text": [
      "228 228\n"
     ]
    }
   ],
   "source": [
    "df1_clean[df1_clean.population == 0]\n",
    "print(df1_clean.country.count(),df2_clean.country.count())"
   ]
  },
  {
   "cell_type": "markdown",
   "id": "81b7bfe7",
   "metadata": {},
   "source": [
    "***"
   ]
  },
  {
   "cell_type": "markdown",
   "id": "799618dd",
   "metadata": {},
   "source": [
    "### Issue #6:"
   ]
  },
  {
   "cell_type": "code",
   "execution_count": 35,
   "id": "9075d050",
   "metadata": {
    "scrolled": true
   },
   "outputs": [
    {
     "data": {
      "text/plain": [
       "[{'Id': numpy.int64},\n",
       " {'country': str},\n",
       " {'total_cases': str},\n",
       " {'total_death': str},\n",
       " {'new_deaths': numpy.int64},\n",
       " {'total_recovered': str},\n",
       " {'active_cases': str},\n",
       " {'serious_critical': str},\n",
       " {'total_cases_per_million': str},\n",
       " {'deaths_per_million': str},\n",
       " {'total_tests': str},\n",
       " {'tests_per_million': str},\n",
       " {'population': str},\n",
       " {'continent': str}]"
      ]
     },
     "execution_count": 35,
     "metadata": {},
     "output_type": "execute_result"
    }
   ],
   "source": [
    "df1_cols_types =[]\n",
    "for i in df1_clean.columns:\n",
    "    df1_cols_types.append({i:type(df1_clean[i].loc[0])})\n",
    "df1_cols_types"
   ]
  },
  {
   "cell_type": "code",
   "execution_count": 36,
   "id": "12710b69",
   "metadata": {},
   "outputs": [
    {
     "data": {
      "text/plain": [
       "[{'Id': numpy.int64},\n",
       " {'country': str},\n",
       " {'total_cases': str},\n",
       " {'total_death': str},\n",
       " {'new_deaths': numpy.float64},\n",
       " {'total_recovered': str},\n",
       " {'active_cases': str},\n",
       " {'serious_critical': str},\n",
       " {'total_cases_per_million': str},\n",
       " {'deaths_per_million': str},\n",
       " {'total_tests': str},\n",
       " {'tests_per_million': str},\n",
       " {'population': str}]"
      ]
     },
     "execution_count": 36,
     "metadata": {},
     "output_type": "execute_result"
    }
   ],
   "source": [
    "df2_cols_types =[]\n",
    "for i in df2_clean.columns:\n",
    "    df2_cols_types.append({i:type(df2_clean[i].loc[0])})\n",
    "df2_cols_types"
   ]
  },
  {
   "cell_type": "markdown",
   "id": "81473853",
   "metadata": {},
   "source": [
    "#### Define\n",
    ">Change the character strings and floats present in the covid-related case listing columns into integers.For total_cases, total_death, new_deaths, total_recovered, active_cases, serious_critical, total_cases_per_million, deaths_per_million, total_tests, tests_per_million, population\n"
   ]
  },
  {
   "cell_type": "markdown",
   "id": "f635ef4f",
   "metadata": {},
   "source": [
    "#### Code"
   ]
  },
  {
   "cell_type": "code",
   "execution_count": 37,
   "id": "aebe8ec3",
   "metadata": {},
   "outputs": [],
   "source": [
    "def split_and_concat(x):\n",
    "    if type(x) == str:\n",
    "        content = [i for i in x.split(',')]\n",
    "        result = ''\n",
    "        for i in range(len(content)):\n",
    "            result= result + content[i]\n",
    "        result = int(result)\n",
    "    else:\n",
    "        return int(x)\n",
    "    return result\n",
    "def reshape_data_cases(df,col):\n",
    "    for i in range(len(col)):\n",
    "        df[col[i]] = df[col[i]].apply(split_and_concat)\n",
    "    return df"
   ]
  },
  {
   "cell_type": "code",
   "execution_count": 38,
   "id": "d768c88c",
   "metadata": {},
   "outputs": [
    {
     "data": {
      "text/html": [
       "<div>\n",
       "<style scoped>\n",
       "    .dataframe tbody tr th:only-of-type {\n",
       "        vertical-align: middle;\n",
       "    }\n",
       "\n",
       "    .dataframe tbody tr th {\n",
       "        vertical-align: top;\n",
       "    }\n",
       "\n",
       "    .dataframe thead th {\n",
       "        text-align: right;\n",
       "    }\n",
       "</style>\n",
       "<table border=\"1\" class=\"dataframe\">\n",
       "  <thead>\n",
       "    <tr style=\"text-align: right;\">\n",
       "      <th></th>\n",
       "      <th>Id</th>\n",
       "      <th>country</th>\n",
       "      <th>total_cases</th>\n",
       "      <th>total_death</th>\n",
       "      <th>new_deaths</th>\n",
       "      <th>total_recovered</th>\n",
       "      <th>active_cases</th>\n",
       "      <th>serious_critical</th>\n",
       "      <th>total_cases_per_million</th>\n",
       "      <th>deaths_per_million</th>\n",
       "      <th>total_tests</th>\n",
       "      <th>tests_per_million</th>\n",
       "      <th>population</th>\n",
       "      <th>continent</th>\n",
       "    </tr>\n",
       "  </thead>\n",
       "  <tbody>\n",
       "    <tr>\n",
       "      <th>0</th>\n",
       "      <td>1</td>\n",
       "      <td>USA</td>\n",
       "      <td>101213638</td>\n",
       "      <td>1109394</td>\n",
       "      <td>0</td>\n",
       "      <td>98461586</td>\n",
       "      <td>1642658</td>\n",
       "      <td>3746</td>\n",
       "      <td>302306</td>\n",
       "      <td>3314</td>\n",
       "      <td>1144042147</td>\n",
       "      <td>3417037</td>\n",
       "      <td>334805269</td>\n",
       "      <td>North America</td>\n",
       "    </tr>\n",
       "    <tr>\n",
       "      <th>1</th>\n",
       "      <td>2</td>\n",
       "      <td>India</td>\n",
       "      <td>44675509</td>\n",
       "      <td>530653</td>\n",
       "      <td>0</td>\n",
       "      <td>44139558</td>\n",
       "      <td>5298</td>\n",
       "      <td>698</td>\n",
       "      <td>31761</td>\n",
       "      <td>377</td>\n",
       "      <td>907809042</td>\n",
       "      <td>645378</td>\n",
       "      <td>1406631776</td>\n",
       "      <td>Asia</td>\n",
       "    </tr>\n",
       "    <tr>\n",
       "      <th>2</th>\n",
       "      <td>3</td>\n",
       "      <td>France</td>\n",
       "      <td>38331430</td>\n",
       "      <td>159517</td>\n",
       "      <td>0</td>\n",
       "      <td>37128030</td>\n",
       "      <td>1043883</td>\n",
       "      <td>869</td>\n",
       "      <td>584459</td>\n",
       "      <td>2432</td>\n",
       "      <td>271490188</td>\n",
       "      <td>4139547</td>\n",
       "      <td>65584518</td>\n",
       "      <td>Europe</td>\n",
       "    </tr>\n",
       "    <tr>\n",
       "      <th>3</th>\n",
       "      <td>4</td>\n",
       "      <td>Germany</td>\n",
       "      <td>36726061</td>\n",
       "      <td>158851</td>\n",
       "      <td>0</td>\n",
       "      <td>36042800</td>\n",
       "      <td>524410</td>\n",
       "      <td>1406</td>\n",
       "      <td>437822</td>\n",
       "      <td>1894</td>\n",
       "      <td>122332384</td>\n",
       "      <td>1458359</td>\n",
       "      <td>83883596</td>\n",
       "      <td>Europe</td>\n",
       "    </tr>\n",
       "    <tr>\n",
       "      <th>4</th>\n",
       "      <td>5</td>\n",
       "      <td>Brazil</td>\n",
       "      <td>35563044</td>\n",
       "      <td>690739</td>\n",
       "      <td>0</td>\n",
       "      <td>34354889</td>\n",
       "      <td>517416</td>\n",
       "      <td>8318</td>\n",
       "      <td>165138</td>\n",
       "      <td>3207</td>\n",
       "      <td>63776166</td>\n",
       "      <td>296146</td>\n",
       "      <td>215353593</td>\n",
       "      <td>South America</td>\n",
       "    </tr>\n",
       "  </tbody>\n",
       "</table>\n",
       "</div>"
      ],
      "text/plain": [
       "   Id  country  total_cases  total_death  new_deaths  total_recovered  \\\n",
       "0   1      USA    101213638      1109394           0         98461586   \n",
       "1   2    India     44675509       530653           0         44139558   \n",
       "2   3   France     38331430       159517           0         37128030   \n",
       "3   4  Germany     36726061       158851           0         36042800   \n",
       "4   5   Brazil     35563044       690739           0         34354889   \n",
       "\n",
       "   active_cases  serious_critical  total_cases_per_million  \\\n",
       "0       1642658              3746                   302306   \n",
       "1          5298               698                    31761   \n",
       "2       1043883               869                   584459   \n",
       "3        524410              1406                   437822   \n",
       "4        517416              8318                   165138   \n",
       "\n",
       "   deaths_per_million  total_tests  tests_per_million  population  \\\n",
       "0                3314   1144042147            3417037   334805269   \n",
       "1                 377    907809042             645378  1406631776   \n",
       "2                2432    271490188            4139547    65584518   \n",
       "3                1894    122332384            1458359    83883596   \n",
       "4                3207     63776166             296146   215353593   \n",
       "\n",
       "       continent  \n",
       "0  North America  \n",
       "1           Asia  \n",
       "2         Europe  \n",
       "3         Europe  \n",
       "4  South America  "
      ]
     },
     "execution_count": 38,
     "metadata": {},
     "output_type": "execute_result"
    }
   ],
   "source": [
    "df1_clean = reshape_data_cases(df1_clean,['total_cases', 'total_death', 'total_recovered', 'active_cases', 'serious_critical', 'total_cases_per_million', 'deaths_per_million', 'total_tests', 'tests_per_million', 'population'])\n",
    "df1_clean.head()"
   ]
  },
  {
   "cell_type": "code",
   "execution_count": 39,
   "id": "3cbfd0b1",
   "metadata": {},
   "outputs": [
    {
     "data": {
      "text/html": [
       "<div>\n",
       "<style scoped>\n",
       "    .dataframe tbody tr th:only-of-type {\n",
       "        vertical-align: middle;\n",
       "    }\n",
       "\n",
       "    .dataframe tbody tr th {\n",
       "        vertical-align: top;\n",
       "    }\n",
       "\n",
       "    .dataframe thead th {\n",
       "        text-align: right;\n",
       "    }\n",
       "</style>\n",
       "<table border=\"1\" class=\"dataframe\">\n",
       "  <thead>\n",
       "    <tr style=\"text-align: right;\">\n",
       "      <th></th>\n",
       "      <th>Id</th>\n",
       "      <th>country</th>\n",
       "      <th>total_cases</th>\n",
       "      <th>total_death</th>\n",
       "      <th>new_deaths</th>\n",
       "      <th>total_recovered</th>\n",
       "      <th>active_cases</th>\n",
       "      <th>serious_critical</th>\n",
       "      <th>total_cases_per_million</th>\n",
       "      <th>deaths_per_million</th>\n",
       "      <th>total_tests</th>\n",
       "      <th>tests_per_million</th>\n",
       "      <th>population</th>\n",
       "    </tr>\n",
       "  </thead>\n",
       "  <tbody>\n",
       "    <tr>\n",
       "      <th>0</th>\n",
       "      <td>1</td>\n",
       "      <td>USA</td>\n",
       "      <td>98166904</td>\n",
       "      <td>1084282</td>\n",
       "      <td>0</td>\n",
       "      <td>94962112</td>\n",
       "      <td>2120510</td>\n",
       "      <td>2970</td>\n",
       "      <td>293206</td>\n",
       "      <td>3239</td>\n",
       "      <td>1118158870</td>\n",
       "      <td>3339729</td>\n",
       "      <td>334805269</td>\n",
       "    </tr>\n",
       "    <tr>\n",
       "      <th>1</th>\n",
       "      <td>2</td>\n",
       "      <td>India</td>\n",
       "      <td>44587307</td>\n",
       "      <td>528629</td>\n",
       "      <td>0</td>\n",
       "      <td>44019095</td>\n",
       "      <td>39583</td>\n",
       "      <td>698</td>\n",
       "      <td>31698</td>\n",
       "      <td>376</td>\n",
       "      <td>894416853</td>\n",
       "      <td>635857</td>\n",
       "      <td>1406631776</td>\n",
       "    </tr>\n",
       "    <tr>\n",
       "      <th>2</th>\n",
       "      <td>3</td>\n",
       "      <td>France</td>\n",
       "      <td>35342950</td>\n",
       "      <td>155078</td>\n",
       "      <td>0</td>\n",
       "      <td>34527115</td>\n",
       "      <td>660757</td>\n",
       "      <td>869</td>\n",
       "      <td>538892</td>\n",
       "      <td>2365</td>\n",
       "      <td>271490188</td>\n",
       "      <td>4139547</td>\n",
       "      <td>65584518</td>\n",
       "    </tr>\n",
       "    <tr>\n",
       "      <th>3</th>\n",
       "      <td>4</td>\n",
       "      <td>Brazil</td>\n",
       "      <td>34706757</td>\n",
       "      <td>686027</td>\n",
       "      <td>0</td>\n",
       "      <td>33838636</td>\n",
       "      <td>182094</td>\n",
       "      <td>8318</td>\n",
       "      <td>161162</td>\n",
       "      <td>3186</td>\n",
       "      <td>63776166</td>\n",
       "      <td>296146</td>\n",
       "      <td>215353593</td>\n",
       "    </tr>\n",
       "    <tr>\n",
       "      <th>4</th>\n",
       "      <td>5</td>\n",
       "      <td>Germany</td>\n",
       "      <td>33312373</td>\n",
       "      <td>149948</td>\n",
       "      <td>0</td>\n",
       "      <td>32315200</td>\n",
       "      <td>847225</td>\n",
       "      <td>1406</td>\n",
       "      <td>397126</td>\n",
       "      <td>1788</td>\n",
       "      <td>122332384</td>\n",
       "      <td>1458359</td>\n",
       "      <td>83883596</td>\n",
       "    </tr>\n",
       "  </tbody>\n",
       "</table>\n",
       "</div>"
      ],
      "text/plain": [
       "   Id  country  total_cases  total_death  new_deaths  total_recovered  \\\n",
       "0   1      USA     98166904      1084282           0         94962112   \n",
       "1   2    India     44587307       528629           0         44019095   \n",
       "2   3   France     35342950       155078           0         34527115   \n",
       "3   4   Brazil     34706757       686027           0         33838636   \n",
       "4   5  Germany     33312373       149948           0         32315200   \n",
       "\n",
       "   active_cases  serious_critical  total_cases_per_million  \\\n",
       "0       2120510              2970                   293206   \n",
       "1         39583               698                    31698   \n",
       "2        660757               869                   538892   \n",
       "3        182094              8318                   161162   \n",
       "4        847225              1406                   397126   \n",
       "\n",
       "   deaths_per_million  total_tests  tests_per_million  population  \n",
       "0                3239   1118158870            3339729   334805269  \n",
       "1                 376    894416853             635857  1406631776  \n",
       "2                2365    271490188            4139547    65584518  \n",
       "3                3186     63776166             296146   215353593  \n",
       "4                1788    122332384            1458359    83883596  "
      ]
     },
     "execution_count": 39,
     "metadata": {},
     "output_type": "execute_result"
    }
   ],
   "source": [
    "df2_clean = reshape_data_cases(df2_clean,['total_cases','new_deaths', 'total_death', 'total_recovered', 'active_cases', 'serious_critical', 'total_cases_per_million', 'deaths_per_million', 'total_tests', 'tests_per_million', 'population'])\n",
    "df2_clean.head()"
   ]
  },
  {
   "cell_type": "markdown",
   "id": "d5690cb3",
   "metadata": {},
   "source": [
    "#### Test"
   ]
  },
  {
   "cell_type": "code",
   "execution_count": 40,
   "id": "6f0108b1",
   "metadata": {
    "scrolled": false
   },
   "outputs": [
    {
     "data": {
      "text/plain": [
       "[{'Id': numpy.int64},\n",
       " {'country': str},\n",
       " {'total_cases': numpy.int64},\n",
       " {'total_death': numpy.int64},\n",
       " {'new_deaths': numpy.int64},\n",
       " {'total_recovered': numpy.int64},\n",
       " {'active_cases': numpy.int64},\n",
       " {'serious_critical': numpy.int64},\n",
       " {'total_cases_per_million': numpy.int64},\n",
       " {'deaths_per_million': numpy.int64},\n",
       " {'total_tests': numpy.int64},\n",
       " {'tests_per_million': numpy.int64},\n",
       " {'population': numpy.int64},\n",
       " {'continent': str}]"
      ]
     },
     "execution_count": 40,
     "metadata": {},
     "output_type": "execute_result"
    }
   ],
   "source": [
    "df1_cols_types =[]\n",
    "for i in df1_clean.columns:\n",
    "    df1_cols_types.append({i:type(df1_clean[i].loc[0])})\n",
    "df1_cols_types"
   ]
  },
  {
   "cell_type": "code",
   "execution_count": 41,
   "id": "c49751ba",
   "metadata": {},
   "outputs": [
    {
     "data": {
      "text/plain": [
       "[{'Id': numpy.int64},\n",
       " {'country': str},\n",
       " {'total_cases': numpy.int64},\n",
       " {'total_death': numpy.int64},\n",
       " {'new_deaths': numpy.int64},\n",
       " {'total_recovered': numpy.int64},\n",
       " {'active_cases': numpy.int64},\n",
       " {'serious_critical': numpy.int64},\n",
       " {'total_cases_per_million': numpy.int64},\n",
       " {'deaths_per_million': numpy.int64},\n",
       " {'total_tests': numpy.int64},\n",
       " {'tests_per_million': numpy.int64},\n",
       " {'population': numpy.int64}]"
      ]
     },
     "execution_count": 41,
     "metadata": {},
     "output_type": "execute_result"
    }
   ],
   "source": [
    "df2_cols_types =[]\n",
    "for i in df2_clean.columns:\n",
    "    df2_cols_types.append({i:type(df2_clean[i].loc[0])})\n",
    "df2_cols_types"
   ]
  },
  {
   "cell_type": "markdown",
   "id": "94ea76c4",
   "metadata": {},
   "source": [
    "***"
   ]
  },
  {
   "cell_type": "markdown",
   "id": "eaf294fb",
   "metadata": {},
   "source": [
    "### Issue #7:"
   ]
  },
  {
   "cell_type": "code",
   "execution_count": 42,
   "id": "973124e1",
   "metadata": {
    "scrolled": true
   },
   "outputs": [
    {
     "data": {
      "text/plain": [
       "{'continent'}"
      ]
     },
     "execution_count": 42,
     "metadata": {},
     "output_type": "execute_result"
    }
   ],
   "source": [
    "set(df1_clean.columns.tolist()) - set(df2_clean.columns.tolist()) "
   ]
  },
  {
   "cell_type": "markdown",
   "id": "b21e96b2",
   "metadata": {},
   "source": [
    "#### Define\n",
    ">Add continent from 2022 data in 2019 set of data based on country."
   ]
  },
  {
   "cell_type": "markdown",
   "id": "8c0defec",
   "metadata": {},
   "source": [
    "#### Code"
   ]
  },
  {
   "cell_type": "code",
   "execution_count": 43,
   "id": "2f98e981",
   "metadata": {},
   "outputs": [],
   "source": [
    "df2_clean = df2_clean.merge(df1_clean, on ='country',suffixes=('', '_y'))\n",
    "df2_clean =df2_clean[['Id', 'country', 'total_cases', 'total_death', 'new_deaths', 'total_recovered', 'active_cases', 'serious_critical', 'total_cases_per_million', 'deaths_per_million', 'total_tests', 'tests_per_million', 'population','continent']]\n"
   ]
  },
  {
   "cell_type": "markdown",
   "id": "e69b1a31",
   "metadata": {},
   "source": [
    "#### Test"
   ]
  },
  {
   "cell_type": "code",
   "execution_count": 44,
   "id": "5f2c1f5f",
   "metadata": {
    "scrolled": false
   },
   "outputs": [
    {
     "data": {
      "text/plain": [
       "['Id',\n",
       " 'country',\n",
       " 'total_cases',\n",
       " 'total_death',\n",
       " 'new_deaths',\n",
       " 'total_recovered',\n",
       " 'active_cases',\n",
       " 'serious_critical',\n",
       " 'total_cases_per_million',\n",
       " 'deaths_per_million',\n",
       " 'total_tests',\n",
       " 'tests_per_million',\n",
       " 'population',\n",
       " 'continent']"
      ]
     },
     "execution_count": 44,
     "metadata": {},
     "output_type": "execute_result"
    }
   ],
   "source": [
    "df2_clean.columns.tolist()"
   ]
  },
  {
   "cell_type": "code",
   "execution_count": 45,
   "id": "129a8b7c",
   "metadata": {},
   "outputs": [
    {
     "data": {
      "text/plain": [
       "['Id',\n",
       " 'country',\n",
       " 'total_cases',\n",
       " 'total_death',\n",
       " 'new_deaths',\n",
       " 'total_recovered',\n",
       " 'active_cases',\n",
       " 'serious_critical',\n",
       " 'total_cases_per_million',\n",
       " 'deaths_per_million',\n",
       " 'total_tests',\n",
       " 'tests_per_million',\n",
       " 'population',\n",
       " 'continent']"
      ]
     },
     "execution_count": 45,
     "metadata": {},
     "output_type": "execute_result"
    }
   ],
   "source": [
    "df1_clean.columns.tolist()"
   ]
  },
  {
   "cell_type": "code",
   "execution_count": 46,
   "id": "afbc4c93",
   "metadata": {},
   "outputs": [
    {
     "data": {
      "text/html": [
       "<div>\n",
       "<style scoped>\n",
       "    .dataframe tbody tr th:only-of-type {\n",
       "        vertical-align: middle;\n",
       "    }\n",
       "\n",
       "    .dataframe tbody tr th {\n",
       "        vertical-align: top;\n",
       "    }\n",
       "\n",
       "    .dataframe thead th {\n",
       "        text-align: right;\n",
       "    }\n",
       "</style>\n",
       "<table border=\"1\" class=\"dataframe\">\n",
       "  <thead>\n",
       "    <tr style=\"text-align: right;\">\n",
       "      <th></th>\n",
       "      <th>Id</th>\n",
       "      <th>total_cases</th>\n",
       "      <th>total_death</th>\n",
       "      <th>new_deaths</th>\n",
       "      <th>total_recovered</th>\n",
       "      <th>active_cases</th>\n",
       "      <th>serious_critical</th>\n",
       "      <th>total_cases_per_million</th>\n",
       "      <th>deaths_per_million</th>\n",
       "      <th>total_tests</th>\n",
       "      <th>tests_per_million</th>\n",
       "      <th>population</th>\n",
       "    </tr>\n",
       "  </thead>\n",
       "  <tbody>\n",
       "    <tr>\n",
       "      <th>count</th>\n",
       "      <td>227.000000</td>\n",
       "      <td>2.270000e+02</td>\n",
       "      <td>2.270000e+02</td>\n",
       "      <td>227.000000</td>\n",
       "      <td>2.270000e+02</td>\n",
       "      <td>2.270000e+02</td>\n",
       "      <td>227.000000</td>\n",
       "      <td>227.000000</td>\n",
       "      <td>227.000000</td>\n",
       "      <td>2.270000e+02</td>\n",
       "      <td>2.270000e+02</td>\n",
       "      <td>2.270000e+02</td>\n",
       "    </tr>\n",
       "    <tr>\n",
       "      <th>mean</th>\n",
       "      <td>114.533040</td>\n",
       "      <td>2.740731e+06</td>\n",
       "      <td>2.884077e+04</td>\n",
       "      <td>0.237885</td>\n",
       "      <td>2.645505e+06</td>\n",
       "      <td>5.439494e+04</td>\n",
       "      <td>174.977974</td>\n",
       "      <td>178175.660793</td>\n",
       "      <td>1174.634361</td>\n",
       "      <td>2.957042e+07</td>\n",
       "      <td>1.926337e+06</td>\n",
       "      <td>3.499775e+07</td>\n",
       "    </tr>\n",
       "    <tr>\n",
       "      <th>std</th>\n",
       "      <td>66.137578</td>\n",
       "      <td>8.832706e+06</td>\n",
       "      <td>1.017972e+05</td>\n",
       "      <td>2.854242</td>\n",
       "      <td>8.583222e+06</td>\n",
       "      <td>2.022167e+05</td>\n",
       "      <td>752.824478</td>\n",
       "      <td>181460.566595</td>\n",
       "      <td>1247.615784</td>\n",
       "      <td>1.113562e+08</td>\n",
       "      <td>3.424471e+06</td>\n",
       "      <td>1.392114e+08</td>\n",
       "    </tr>\n",
       "    <tr>\n",
       "      <th>min</th>\n",
       "      <td>1.000000</td>\n",
       "      <td>1.000000e+01</td>\n",
       "      <td>0.000000e+00</td>\n",
       "      <td>0.000000</td>\n",
       "      <td>0.000000e+00</td>\n",
       "      <td>0.000000e+00</td>\n",
       "      <td>0.000000</td>\n",
       "      <td>16.000000</td>\n",
       "      <td>0.000000</td>\n",
       "      <td>0.000000e+00</td>\n",
       "      <td>0.000000e+00</td>\n",
       "      <td>7.990000e+02</td>\n",
       "    </tr>\n",
       "    <tr>\n",
       "      <th>25%</th>\n",
       "      <td>57.500000</td>\n",
       "      <td>2.602550e+04</td>\n",
       "      <td>1.880000e+02</td>\n",
       "      <td>0.000000</td>\n",
       "      <td>1.529650e+04</td>\n",
       "      <td>8.550000e+01</td>\n",
       "      <td>0.000000</td>\n",
       "      <td>16885.000000</td>\n",
       "      <td>133.000000</td>\n",
       "      <td>2.350195e+05</td>\n",
       "      <td>1.008405e+05</td>\n",
       "      <td>5.543315e+05</td>\n",
       "    </tr>\n",
       "    <tr>\n",
       "      <th>50%</th>\n",
       "      <td>115.000000</td>\n",
       "      <td>2.056370e+05</td>\n",
       "      <td>2.157000e+03</td>\n",
       "      <td>0.000000</td>\n",
       "      <td>1.648130e+05</td>\n",
       "      <td>1.067000e+03</td>\n",
       "      <td>4.000000</td>\n",
       "      <td>116087.000000</td>\n",
       "      <td>754.000000</td>\n",
       "      <td>1.861041e+06</td>\n",
       "      <td>7.074820e+05</td>\n",
       "      <td>5.834950e+06</td>\n",
       "    </tr>\n",
       "    <tr>\n",
       "      <th>75%</th>\n",
       "      <td>171.500000</td>\n",
       "      <td>1.261802e+06</td>\n",
       "      <td>1.390600e+04</td>\n",
       "      <td>0.000000</td>\n",
       "      <td>1.232347e+06</td>\n",
       "      <td>1.833350e+04</td>\n",
       "      <td>35.500000</td>\n",
       "      <td>292024.500000</td>\n",
       "      <td>1926.000000</td>\n",
       "      <td>1.144979e+07</td>\n",
       "      <td>2.144410e+06</td>\n",
       "      <td>2.299572e+07</td>\n",
       "    </tr>\n",
       "    <tr>\n",
       "      <th>max</th>\n",
       "      <td>229.000000</td>\n",
       "      <td>9.816690e+07</td>\n",
       "      <td>1.084282e+06</td>\n",
       "      <td>42.000000</td>\n",
       "      <td>9.496211e+07</td>\n",
       "      <td>2.120510e+06</td>\n",
       "      <td>8318.000000</td>\n",
       "      <td>703959.000000</td>\n",
       "      <td>6429.000000</td>\n",
       "      <td>1.118159e+09</td>\n",
       "      <td>2.200494e+07</td>\n",
       "      <td>1.448471e+09</td>\n",
       "    </tr>\n",
       "  </tbody>\n",
       "</table>\n",
       "</div>"
      ],
      "text/plain": [
       "               Id   total_cases   total_death  new_deaths  total_recovered  \\\n",
       "count  227.000000  2.270000e+02  2.270000e+02  227.000000     2.270000e+02   \n",
       "mean   114.533040  2.740731e+06  2.884077e+04    0.237885     2.645505e+06   \n",
       "std     66.137578  8.832706e+06  1.017972e+05    2.854242     8.583222e+06   \n",
       "min      1.000000  1.000000e+01  0.000000e+00    0.000000     0.000000e+00   \n",
       "25%     57.500000  2.602550e+04  1.880000e+02    0.000000     1.529650e+04   \n",
       "50%    115.000000  2.056370e+05  2.157000e+03    0.000000     1.648130e+05   \n",
       "75%    171.500000  1.261802e+06  1.390600e+04    0.000000     1.232347e+06   \n",
       "max    229.000000  9.816690e+07  1.084282e+06   42.000000     9.496211e+07   \n",
       "\n",
       "       active_cases  serious_critical  total_cases_per_million  \\\n",
       "count  2.270000e+02        227.000000               227.000000   \n",
       "mean   5.439494e+04        174.977974            178175.660793   \n",
       "std    2.022167e+05        752.824478            181460.566595   \n",
       "min    0.000000e+00          0.000000                16.000000   \n",
       "25%    8.550000e+01          0.000000             16885.000000   \n",
       "50%    1.067000e+03          4.000000            116087.000000   \n",
       "75%    1.833350e+04         35.500000            292024.500000   \n",
       "max    2.120510e+06       8318.000000            703959.000000   \n",
       "\n",
       "       deaths_per_million   total_tests  tests_per_million    population  \n",
       "count          227.000000  2.270000e+02       2.270000e+02  2.270000e+02  \n",
       "mean          1174.634361  2.957042e+07       1.926337e+06  3.499775e+07  \n",
       "std           1247.615784  1.113562e+08       3.424471e+06  1.392114e+08  \n",
       "min              0.000000  0.000000e+00       0.000000e+00  7.990000e+02  \n",
       "25%            133.000000  2.350195e+05       1.008405e+05  5.543315e+05  \n",
       "50%            754.000000  1.861041e+06       7.074820e+05  5.834950e+06  \n",
       "75%           1926.000000  1.144979e+07       2.144410e+06  2.299572e+07  \n",
       "max           6429.000000  1.118159e+09       2.200494e+07  1.448471e+09  "
      ]
     },
     "execution_count": 46,
     "metadata": {},
     "output_type": "execute_result"
    }
   ],
   "source": [
    "df2_clean.describe()"
   ]
  },
  {
   "cell_type": "markdown",
   "id": "cc694d59",
   "metadata": {},
   "source": [
    "***"
   ]
  },
  {
   "cell_type": "markdown",
   "id": "0ed1ddcd",
   "metadata": {},
   "source": [
    "### Issue #8:"
   ]
  },
  {
   "cell_type": "markdown",
   "id": "035f9af0",
   "metadata": {},
   "source": [
    "#### Define\n",
    ">Add the year column to differencify the two sets of data."
   ]
  },
  {
   "cell_type": "markdown",
   "id": "1653e1fd",
   "metadata": {},
   "source": [
    "#### Code"
   ]
  },
  {
   "cell_type": "code",
   "execution_count": 47,
   "id": "d94fec34",
   "metadata": {},
   "outputs": [],
   "source": [
    "df1_clean['year'] = 2022\n",
    "df2_clean['year'] = 2019"
   ]
  },
  {
   "cell_type": "markdown",
   "id": "5fcf34f5",
   "metadata": {},
   "source": [
    "#### Test"
   ]
  },
  {
   "cell_type": "code",
   "execution_count": 48,
   "id": "754c6ae9",
   "metadata": {
    "scrolled": false
   },
   "outputs": [
    {
     "name": "stdout",
     "output_type": "stream",
     "text": [
      "['Id', 'country', 'total_cases', 'total_death', 'new_deaths', 'total_recovered', 'active_cases', 'serious_critical', 'total_cases_per_million', 'deaths_per_million', 'total_tests', 'tests_per_million', 'population', 'continent', 'year'] \n",
      "\n",
      " ['Id', 'country', 'total_cases', 'total_death', 'new_deaths', 'total_recovered', 'active_cases', 'serious_critical', 'total_cases_per_million', 'deaths_per_million', 'total_tests', 'tests_per_million', 'population', 'continent', 'year']\n"
     ]
    }
   ],
   "source": [
    "print(df1_clean.columns.tolist(),'\\n\\n',df2_clean.columns.tolist())"
   ]
  },
  {
   "cell_type": "markdown",
   "id": "2b0ea154",
   "metadata": {},
   "source": [
    "***"
   ]
  },
  {
   "cell_type": "markdown",
   "id": "ee5f0e83",
   "metadata": {},
   "source": [
    "### Issue #9:"
   ]
  },
  {
   "cell_type": "markdown",
   "id": "dd2266b3",
   "metadata": {},
   "source": [
    "#### Define\n",
    ">Concat the two set of datas 2019 and 2022."
   ]
  },
  {
   "cell_type": "markdown",
   "id": "aa3316e6",
   "metadata": {},
   "source": [
    "#### Code"
   ]
  },
  {
   "cell_type": "code",
   "execution_count": 49,
   "id": "8b78a71d",
   "metadata": {},
   "outputs": [],
   "source": [
    "df_final = pd.concat([df1_clean,df2_clean], ignore_index=True)"
   ]
  },
  {
   "cell_type": "markdown",
   "id": "dac63703",
   "metadata": {},
   "source": [
    "#### Test"
   ]
  },
  {
   "cell_type": "code",
   "execution_count": 50,
   "id": "25f14e1c",
   "metadata": {
    "scrolled": false
   },
   "outputs": [
    {
     "data": {
      "text/plain": [
       "(455, 15)"
      ]
     },
     "execution_count": 50,
     "metadata": {},
     "output_type": "execute_result"
    }
   ],
   "source": [
    "df_final.shape"
   ]
  },
  {
   "cell_type": "code",
   "execution_count": 51,
   "id": "e5c9a6de",
   "metadata": {},
   "outputs": [
    {
     "data": {
      "text/html": [
       "<div>\n",
       "<style scoped>\n",
       "    .dataframe tbody tr th:only-of-type {\n",
       "        vertical-align: middle;\n",
       "    }\n",
       "\n",
       "    .dataframe tbody tr th {\n",
       "        vertical-align: top;\n",
       "    }\n",
       "\n",
       "    .dataframe thead th {\n",
       "        text-align: right;\n",
       "    }\n",
       "</style>\n",
       "<table border=\"1\" class=\"dataframe\">\n",
       "  <thead>\n",
       "    <tr style=\"text-align: right;\">\n",
       "      <th></th>\n",
       "      <th>Id</th>\n",
       "      <th>total_cases</th>\n",
       "      <th>total_death</th>\n",
       "      <th>new_deaths</th>\n",
       "      <th>total_recovered</th>\n",
       "      <th>active_cases</th>\n",
       "      <th>serious_critical</th>\n",
       "      <th>total_cases_per_million</th>\n",
       "      <th>deaths_per_million</th>\n",
       "      <th>total_tests</th>\n",
       "      <th>tests_per_million</th>\n",
       "      <th>population</th>\n",
       "      <th>year</th>\n",
       "    </tr>\n",
       "  </thead>\n",
       "  <tbody>\n",
       "    <tr>\n",
       "      <th>count</th>\n",
       "      <td>455.000000</td>\n",
       "      <td>4.550000e+02</td>\n",
       "      <td>4.550000e+02</td>\n",
       "      <td>455.000000</td>\n",
       "      <td>4.550000e+02</td>\n",
       "      <td>4.550000e+02</td>\n",
       "      <td>455.000000</td>\n",
       "      <td>4.550000e+02</td>\n",
       "      <td>4.550000e+02</td>\n",
       "      <td>4.550000e+02</td>\n",
       "      <td>4.550000e+02</td>\n",
       "      <td>4.550000e+02</td>\n",
       "      <td>455.000000</td>\n",
       "    </tr>\n",
       "    <tr>\n",
       "      <th>mean</th>\n",
       "      <td>114.527473</td>\n",
       "      <td>2.801313e+06</td>\n",
       "      <td>2.901476e+04</td>\n",
       "      <td>1.312088</td>\n",
       "      <td>2.663383e+06</td>\n",
       "      <td>6.230176e+04</td>\n",
       "      <td>29552.079121</td>\n",
       "      <td>5.123453e+05</td>\n",
       "      <td>9.293288e+05</td>\n",
       "      <td>2.888604e+07</td>\n",
       "      <td>1.575665e+06</td>\n",
       "      <td>3.492181e+07</td>\n",
       "      <td>2020.503297</td>\n",
       "    </tr>\n",
       "    <tr>\n",
       "      <th>std</th>\n",
       "      <td>65.995785</td>\n",
       "      <td>9.009091e+06</td>\n",
       "      <td>1.023957e+05</td>\n",
       "      <td>12.064774</td>\n",
       "      <td>8.720794e+06</td>\n",
       "      <td>2.990442e+05</td>\n",
       "      <td>101986.109614</td>\n",
       "      <td>7.624561e+06</td>\n",
       "      <td>9.569332e+06</td>\n",
       "      <td>1.116216e+08</td>\n",
       "      <td>3.138989e+06</td>\n",
       "      <td>1.389139e+08</td>\n",
       "      <td>1.501647</td>\n",
       "    </tr>\n",
       "    <tr>\n",
       "      <th>min</th>\n",
       "      <td>1.000000</td>\n",
       "      <td>1.000000e+01</td>\n",
       "      <td>0.000000e+00</td>\n",
       "      <td>0.000000</td>\n",
       "      <td>0.000000e+00</td>\n",
       "      <td>0.000000e+00</td>\n",
       "      <td>0.000000</td>\n",
       "      <td>0.000000e+00</td>\n",
       "      <td>0.000000e+00</td>\n",
       "      <td>0.000000e+00</td>\n",
       "      <td>0.000000e+00</td>\n",
       "      <td>7.990000e+02</td>\n",
       "      <td>2019.000000</td>\n",
       "    </tr>\n",
       "    <tr>\n",
       "      <th>25%</th>\n",
       "      <td>57.500000</td>\n",
       "      <td>2.629450e+04</td>\n",
       "      <td>1.880000e+02</td>\n",
       "      <td>0.000000</td>\n",
       "      <td>1.566200e+04</td>\n",
       "      <td>7.750000e+01</td>\n",
       "      <td>2.000000</td>\n",
       "      <td>2.764500e+03</td>\n",
       "      <td>2.320000e+02</td>\n",
       "      <td>1.869965e+05</td>\n",
       "      <td>0.000000e+00</td>\n",
       "      <td>5.409850e+05</td>\n",
       "      <td>2019.000000</td>\n",
       "    </tr>\n",
       "    <tr>\n",
       "      <th>50%</th>\n",
       "      <td>115.000000</td>\n",
       "      <td>2.065040e+05</td>\n",
       "      <td>2.157000e+03</td>\n",
       "      <td>0.000000</td>\n",
       "      <td>1.742140e+05</td>\n",
       "      <td>1.062000e+03</td>\n",
       "      <td>22.000000</td>\n",
       "      <td>7.496600e+04</td>\n",
       "      <td>1.305000e+03</td>\n",
       "      <td>1.603660e+06</td>\n",
       "      <td>3.401820e+05</td>\n",
       "      <td>5.834950e+06</td>\n",
       "      <td>2022.000000</td>\n",
       "    </tr>\n",
       "    <tr>\n",
       "      <th>75%</th>\n",
       "      <td>171.500000</td>\n",
       "      <td>1.275639e+06</td>\n",
       "      <td>1.412200e+04</td>\n",
       "      <td>0.000000</td>\n",
       "      <td>1.247360e+06</td>\n",
       "      <td>1.474400e+04</td>\n",
       "      <td>814.000000</td>\n",
       "      <td>2.652230e+05</td>\n",
       "      <td>3.268500e+03</td>\n",
       "      <td>1.139456e+07</td>\n",
       "      <td>1.762224e+06</td>\n",
       "      <td>2.299572e+07</td>\n",
       "      <td>2022.000000</td>\n",
       "    </tr>\n",
       "    <tr>\n",
       "      <th>max</th>\n",
       "      <td>230.000000</td>\n",
       "      <td>1.012136e+08</td>\n",
       "      <td>1.109394e+06</td>\n",
       "      <td>228.000000</td>\n",
       "      <td>9.846159e+07</td>\n",
       "      <td>4.956629e+06</td>\n",
       "      <td>703959.000000</td>\n",
       "      <td>1.627434e+08</td>\n",
       "      <td>1.974555e+08</td>\n",
       "      <td>1.144042e+09</td>\n",
       "      <td>2.240685e+07</td>\n",
       "      <td>1.448471e+09</td>\n",
       "      <td>2022.000000</td>\n",
       "    </tr>\n",
       "  </tbody>\n",
       "</table>\n",
       "</div>"
      ],
      "text/plain": [
       "               Id   total_cases   total_death  new_deaths  total_recovered  \\\n",
       "count  455.000000  4.550000e+02  4.550000e+02  455.000000     4.550000e+02   \n",
       "mean   114.527473  2.801313e+06  2.901476e+04    1.312088     2.663383e+06   \n",
       "std     65.995785  9.009091e+06  1.023957e+05   12.064774     8.720794e+06   \n",
       "min      1.000000  1.000000e+01  0.000000e+00    0.000000     0.000000e+00   \n",
       "25%     57.500000  2.629450e+04  1.880000e+02    0.000000     1.566200e+04   \n",
       "50%    115.000000  2.065040e+05  2.157000e+03    0.000000     1.742140e+05   \n",
       "75%    171.500000  1.275639e+06  1.412200e+04    0.000000     1.247360e+06   \n",
       "max    230.000000  1.012136e+08  1.109394e+06  228.000000     9.846159e+07   \n",
       "\n",
       "       active_cases  serious_critical  total_cases_per_million  \\\n",
       "count  4.550000e+02        455.000000             4.550000e+02   \n",
       "mean   6.230176e+04      29552.079121             5.123453e+05   \n",
       "std    2.990442e+05     101986.109614             7.624561e+06   \n",
       "min    0.000000e+00          0.000000             0.000000e+00   \n",
       "25%    7.750000e+01          2.000000             2.764500e+03   \n",
       "50%    1.062000e+03         22.000000             7.496600e+04   \n",
       "75%    1.474400e+04        814.000000             2.652230e+05   \n",
       "max    4.956629e+06     703959.000000             1.627434e+08   \n",
       "\n",
       "       deaths_per_million   total_tests  tests_per_million    population  \\\n",
       "count        4.550000e+02  4.550000e+02       4.550000e+02  4.550000e+02   \n",
       "mean         9.293288e+05  2.888604e+07       1.575665e+06  3.492181e+07   \n",
       "std          9.569332e+06  1.116216e+08       3.138989e+06  1.389139e+08   \n",
       "min          0.000000e+00  0.000000e+00       0.000000e+00  7.990000e+02   \n",
       "25%          2.320000e+02  1.869965e+05       0.000000e+00  5.409850e+05   \n",
       "50%          1.305000e+03  1.603660e+06       3.401820e+05  5.834950e+06   \n",
       "75%          3.268500e+03  1.139456e+07       1.762224e+06  2.299572e+07   \n",
       "max          1.974555e+08  1.144042e+09       2.240685e+07  1.448471e+09   \n",
       "\n",
       "              year  \n",
       "count   455.000000  \n",
       "mean   2020.503297  \n",
       "std       1.501647  \n",
       "min    2019.000000  \n",
       "25%    2019.000000  \n",
       "50%    2022.000000  \n",
       "75%    2022.000000  \n",
       "max    2022.000000  "
      ]
     },
     "execution_count": 51,
     "metadata": {},
     "output_type": "execute_result"
    }
   ],
   "source": [
    "df_final.describe()"
   ]
  },
  {
   "cell_type": "markdown",
   "id": "d2030f18",
   "metadata": {},
   "source": [
    "***"
   ]
  },
  {
   "cell_type": "code",
   "execution_count": 52,
   "id": "66cdcbc6",
   "metadata": {},
   "outputs": [],
   "source": [
    "df_final.to_csv('final_dataCov19.csv',index =False)"
   ]
  },
  {
   "cell_type": "code",
   "execution_count": null,
   "id": "e1243ef2",
   "metadata": {},
   "outputs": [],
   "source": []
  }
 ],
 "metadata": {
  "kernelspec": {
   "display_name": "Python 3",
   "language": "python",
   "name": "python3"
  },
  "language_info": {
   "codemirror_mode": {
    "name": "ipython",
    "version": 3
   },
   "file_extension": ".py",
   "mimetype": "text/x-python",
   "name": "python",
   "nbconvert_exporter": "python",
   "pygments_lexer": "ipython3",
   "version": "3.8.8"
  }
 },
 "nbformat": 4,
 "nbformat_minor": 5
}
